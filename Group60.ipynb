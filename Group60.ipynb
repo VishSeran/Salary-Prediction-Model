{
 "cells": [
  {
   "cell_type": "markdown",
   "id": "a49a3d81-679e-4d29-855d-edd892c112b9",
   "metadata": {},
   "source": [
    "# Salary Prediction of Different Job Titles\n",
    "## Group 60\n",
    "## Weerasinghe R.M.P.A. - EG/2020/4273 \n",
    "## Sovis W.F.S.V. - EG/2020/4222"
   ]
  },
  {
   "cell_type": "markdown",
   "id": "5b5bc01f-8b29-4c26-bb0b-b3b6b5898e4a",
   "metadata": {},
   "source": [
    "### 1: Importing the necessary libraries"
   ]
  },
  {
   "cell_type": "code",
   "execution_count": 611,
   "id": "88ab0afc-63c5-4968-a900-41240a710acb",
   "metadata": {},
   "outputs": [],
   "source": [
    "import pandas as pd\n",
    "import numpy as np\n",
    "import matplotlib.pyplot as plt\n",
    "import plotly.express as px\n",
    "import re\n",
    "from sklearn.preprocessing import LabelEncoder\n",
    "from sklearn.model_selection import train_test_split\n",
    "from sklearn.impute import SimpleImputer\n",
    "from sklearn.linear_model import LinearRegression\n",
    "from sklearn.tree import DecisionTreeRegressor\n",
    "import seaborn as sns"
   ]
  },
  {
   "cell_type": "markdown",
   "id": "dde2118f-641d-4266-bd1d-efa81418e41e",
   "metadata": {},
   "source": [
    "### 2: Loading up the dataset"
   ]
  },
  {
   "cell_type": "code",
   "execution_count": 612,
   "id": "86fbe70d-26e5-4d34-b1a7-b20c15e046dd",
   "metadata": {},
   "outputs": [],
   "source": [
    "file_path = \"glassdoor_jobs.csv\"\n",
    "data = pd.read_csv(file_path)"
   ]
  },
  {
   "cell_type": "code",
   "execution_count": 613,
   "id": "09bf482e-1ad8-473c-9cc7-1f2261104dff",
   "metadata": {},
   "outputs": [
    {
     "data": {
      "text/html": [
       "<div>\n",
       "<style scoped>\n",
       "    .dataframe tbody tr th:only-of-type {\n",
       "        vertical-align: middle;\n",
       "    }\n",
       "\n",
       "    .dataframe tbody tr th {\n",
       "        vertical-align: top;\n",
       "    }\n",
       "\n",
       "    .dataframe thead th {\n",
       "        text-align: right;\n",
       "    }\n",
       "</style>\n",
       "<table border=\"1\" class=\"dataframe\">\n",
       "  <thead>\n",
       "    <tr style=\"text-align: right;\">\n",
       "      <th></th>\n",
       "      <th>Unnamed: 0</th>\n",
       "      <th>Job Title</th>\n",
       "      <th>Salary Estimate</th>\n",
       "      <th>Job Description</th>\n",
       "      <th>Rating</th>\n",
       "      <th>Company Name</th>\n",
       "      <th>Location</th>\n",
       "      <th>Headquarters</th>\n",
       "      <th>Size</th>\n",
       "      <th>Founded</th>\n",
       "      <th>Type of ownership</th>\n",
       "      <th>Industry</th>\n",
       "      <th>Sector</th>\n",
       "      <th>Revenue</th>\n",
       "      <th>Competitors</th>\n",
       "    </tr>\n",
       "  </thead>\n",
       "  <tbody>\n",
       "    <tr>\n",
       "      <th>0</th>\n",
       "      <td>0</td>\n",
       "      <td>Data Scientist</td>\n",
       "      <td>$53K-$91K (Glassdoor est.)</td>\n",
       "      <td>Data Scientist\\nLocation: Albuquerque, NM\\nEdu...</td>\n",
       "      <td>3.8</td>\n",
       "      <td>Tecolote Research\\n3.8</td>\n",
       "      <td>Albuquerque, NM</td>\n",
       "      <td>Goleta, CA</td>\n",
       "      <td>501 to 1000 employees</td>\n",
       "      <td>1973.0</td>\n",
       "      <td>Company - Private</td>\n",
       "      <td>Aerospace &amp; Defense</td>\n",
       "      <td>Aerospace &amp; Defense</td>\n",
       "      <td>$50 to $100 million (USD)</td>\n",
       "      <td>NaN</td>\n",
       "    </tr>\n",
       "    <tr>\n",
       "      <th>1</th>\n",
       "      <td>1</td>\n",
       "      <td>Healthcare Data Scientist</td>\n",
       "      <td>$63K-$112K (Glassdoor est.)</td>\n",
       "      <td>What You Will Do:\\n\\nI. General Summary\\n\\nThe...</td>\n",
       "      <td>3.4</td>\n",
       "      <td>University of Maryland Medical System\\n3.4</td>\n",
       "      <td>Linthicum, MD</td>\n",
       "      <td>Baltimore, MD</td>\n",
       "      <td>10000+ employees</td>\n",
       "      <td>1984.0</td>\n",
       "      <td>Other Organization</td>\n",
       "      <td>Health Care Services &amp; Hospitals</td>\n",
       "      <td>Health Care</td>\n",
       "      <td>$2 to $5 billion (USD)</td>\n",
       "      <td>NaN</td>\n",
       "    </tr>\n",
       "    <tr>\n",
       "      <th>2</th>\n",
       "      <td>2</td>\n",
       "      <td>Data Scientist</td>\n",
       "      <td>$80K-$90K (Glassdoor est.)</td>\n",
       "      <td>KnowBe4, Inc. is a high growth information sec...</td>\n",
       "      <td>4.8</td>\n",
       "      <td>KnowBe4\\n4.8</td>\n",
       "      <td>Clearwater, FL</td>\n",
       "      <td>Clearwater, FL</td>\n",
       "      <td>501 to 1000 employees</td>\n",
       "      <td>2010.0</td>\n",
       "      <td>Company - Private</td>\n",
       "      <td>Security Services</td>\n",
       "      <td>Business Services</td>\n",
       "      <td>$100 to $500 million (USD)</td>\n",
       "      <td>NaN</td>\n",
       "    </tr>\n",
       "  </tbody>\n",
       "</table>\n",
       "</div>"
      ],
      "text/plain": [
       "   Unnamed: 0                  Job Title              Salary Estimate  \\\n",
       "0           0             Data Scientist   $53K-$91K (Glassdoor est.)   \n",
       "1           1  Healthcare Data Scientist  $63K-$112K (Glassdoor est.)   \n",
       "2           2             Data Scientist   $80K-$90K (Glassdoor est.)   \n",
       "\n",
       "                                     Job Description  Rating  \\\n",
       "0  Data Scientist\\nLocation: Albuquerque, NM\\nEdu...     3.8   \n",
       "1  What You Will Do:\\n\\nI. General Summary\\n\\nThe...     3.4   \n",
       "2  KnowBe4, Inc. is a high growth information sec...     4.8   \n",
       "\n",
       "                                 Company Name         Location  \\\n",
       "0                      Tecolote Research\\n3.8  Albuquerque, NM   \n",
       "1  University of Maryland Medical System\\n3.4    Linthicum, MD   \n",
       "2                                KnowBe4\\n4.8   Clearwater, FL   \n",
       "\n",
       "     Headquarters                   Size  Founded   Type of ownership  \\\n",
       "0      Goleta, CA  501 to 1000 employees   1973.0   Company - Private   \n",
       "1   Baltimore, MD       10000+ employees   1984.0  Other Organization   \n",
       "2  Clearwater, FL  501 to 1000 employees   2010.0   Company - Private   \n",
       "\n",
       "                           Industry               Sector  \\\n",
       "0               Aerospace & Defense  Aerospace & Defense   \n",
       "1  Health Care Services & Hospitals          Health Care   \n",
       "2                 Security Services    Business Services   \n",
       "\n",
       "                      Revenue Competitors  \n",
       "0   $50 to $100 million (USD)         NaN  \n",
       "1      $2 to $5 billion (USD)         NaN  \n",
       "2  $100 to $500 million (USD)         NaN  "
      ]
     },
     "execution_count": 613,
     "metadata": {},
     "output_type": "execute_result"
    }
   ],
   "source": [
    "data.head(3)"
   ]
  },
  {
   "cell_type": "markdown",
   "id": "38a710bc-57b4-4c6f-ac27-7068323c34bc",
   "metadata": {},
   "source": [
    "### 3: Selecting relevant columns in the table"
   ]
  },
  {
   "cell_type": "code",
   "execution_count": 614,
   "id": "b32654dc-bef7-41d9-94ba-fd30cc97ed4e",
   "metadata": {},
   "outputs": [],
   "source": [
    "# Remove specified columns\n",
    "columns_to_remove = ['Job Description', 'Competitors',]\n",
    "data_cleaned = data.drop(columns=columns_to_remove)"
   ]
  },
  {
   "cell_type": "markdown",
   "id": "9c8b55d7-5c98-4723-bc4f-a2cf55177ce7",
   "metadata": {},
   "source": [
    "### 4: Data Cleaning and Preprocessing"
   ]
  },
  {
   "cell_type": "markdown",
   "id": "54e35d17-d06f-45ec-8376-98f1d32bd583",
   "metadata": {},
   "source": [
    "#### 4.1 Handling Missing Values"
   ]
  },
  {
   "cell_type": "code",
   "execution_count": 615,
   "id": "c5bca071-a4ec-40df-983f-bcae98d583aa",
   "metadata": {},
   "outputs": [
    {
     "name": "stdout",
     "output_type": "stream",
     "text": [
      "<class 'pandas.core.frame.DataFrame'>\n",
      "RangeIndex: 956 entries, 0 to 955\n",
      "Data columns (total 13 columns):\n",
      " #   Column             Non-Null Count  Dtype  \n",
      "---  ------             --------------  -----  \n",
      " 0   Unnamed: 0         956 non-null    int64  \n",
      " 1   Job Title          956 non-null    object \n",
      " 2   Salary Estimate    742 non-null    object \n",
      " 3   Rating             922 non-null    float64\n",
      " 4   Company Name       956 non-null    object \n",
      " 5   Location           956 non-null    object \n",
      " 6   Headquarters       945 non-null    object \n",
      " 7   Size               945 non-null    object \n",
      " 8   Founded            859 non-null    float64\n",
      " 9   Type of ownership  945 non-null    object \n",
      " 10  Industry           917 non-null    object \n",
      " 11  Sector             917 non-null    object \n",
      " 12  Revenue            945 non-null    object \n",
      "dtypes: float64(2), int64(1), object(10)\n",
      "memory usage: 97.2+ KB\n"
     ]
    }
   ],
   "source": [
    "data_cleaned.info()"
   ]
  },
  {
   "cell_type": "code",
   "execution_count": 616,
   "id": "f5210d8e-4192-4d37-b1e9-2ed1aab9c182",
   "metadata": {},
   "outputs": [],
   "source": [
    "# remobing null values of 'Salary Estimate' column\n",
    "df_new = data_cleaned.dropna(subset=['Salary Estimate'])"
   ]
  },
  {
   "cell_type": "code",
   "execution_count": 617,
   "id": "4ea25c51-65fb-4d12-ad4f-f8a3bf821c50",
   "metadata": {},
   "outputs": [
    {
     "data": {
      "text/plain": [
       "(742, 13)"
      ]
     },
     "execution_count": 617,
     "metadata": {},
     "output_type": "execute_result"
    }
   ],
   "source": [
    "df_new.shape"
   ]
  },
  {
   "cell_type": "markdown",
   "id": "e1b575b0-ce61-41d5-b261-0033f3610984",
   "metadata": {},
   "source": [
    "#### 4.2 Replicating the original Data "
   ]
  },
  {
   "cell_type": "code",
   "execution_count": 618,
   "id": "af88a6eb-7d55-4c60-939f-efbf83b49b9d",
   "metadata": {},
   "outputs": [
    {
     "data": {
      "text/html": [
       "<div>\n",
       "<style scoped>\n",
       "    .dataframe tbody tr th:only-of-type {\n",
       "        vertical-align: middle;\n",
       "    }\n",
       "\n",
       "    .dataframe tbody tr th {\n",
       "        vertical-align: top;\n",
       "    }\n",
       "\n",
       "    .dataframe thead th {\n",
       "        text-align: right;\n",
       "    }\n",
       "</style>\n",
       "<table border=\"1\" class=\"dataframe\">\n",
       "  <thead>\n",
       "    <tr style=\"text-align: right;\">\n",
       "      <th></th>\n",
       "      <th>Unnamed: 0</th>\n",
       "      <th>Job Title</th>\n",
       "      <th>Salary Estimate</th>\n",
       "      <th>Rating</th>\n",
       "      <th>Company Name</th>\n",
       "      <th>Location</th>\n",
       "      <th>Headquarters</th>\n",
       "      <th>Size</th>\n",
       "      <th>Founded</th>\n",
       "      <th>Type of ownership</th>\n",
       "      <th>Industry</th>\n",
       "      <th>Sector</th>\n",
       "      <th>Revenue</th>\n",
       "    </tr>\n",
       "  </thead>\n",
       "  <tbody>\n",
       "    <tr>\n",
       "      <th>0</th>\n",
       "      <td>0</td>\n",
       "      <td>Data Scientist</td>\n",
       "      <td>$53K-$91K (Glassdoor est.)</td>\n",
       "      <td>3.8</td>\n",
       "      <td>Tecolote Research\\n3.8</td>\n",
       "      <td>Albuquerque, NM</td>\n",
       "      <td>Goleta, CA</td>\n",
       "      <td>501 to 1000 employees</td>\n",
       "      <td>1973.0</td>\n",
       "      <td>Company - Private</td>\n",
       "      <td>Aerospace &amp; Defense</td>\n",
       "      <td>Aerospace &amp; Defense</td>\n",
       "      <td>$50 to $100 million (USD)</td>\n",
       "    </tr>\n",
       "    <tr>\n",
       "      <th>1</th>\n",
       "      <td>1</td>\n",
       "      <td>Healthcare Data Scientist</td>\n",
       "      <td>$63K-$112K (Glassdoor est.)</td>\n",
       "      <td>3.4</td>\n",
       "      <td>University of Maryland Medical System\\n3.4</td>\n",
       "      <td>Linthicum, MD</td>\n",
       "      <td>Baltimore, MD</td>\n",
       "      <td>10000+ employees</td>\n",
       "      <td>1984.0</td>\n",
       "      <td>Other Organization</td>\n",
       "      <td>Health Care Services &amp; Hospitals</td>\n",
       "      <td>Health Care</td>\n",
       "      <td>$2 to $5 billion (USD)</td>\n",
       "    </tr>\n",
       "    <tr>\n",
       "      <th>2</th>\n",
       "      <td>2</td>\n",
       "      <td>Data Scientist</td>\n",
       "      <td>$80K-$90K (Glassdoor est.)</td>\n",
       "      <td>4.8</td>\n",
       "      <td>KnowBe4\\n4.8</td>\n",
       "      <td>Clearwater, FL</td>\n",
       "      <td>Clearwater, FL</td>\n",
       "      <td>501 to 1000 employees</td>\n",
       "      <td>2010.0</td>\n",
       "      <td>Company - Private</td>\n",
       "      <td>Security Services</td>\n",
       "      <td>Business Services</td>\n",
       "      <td>$100 to $500 million (USD)</td>\n",
       "    </tr>\n",
       "    <tr>\n",
       "      <th>3</th>\n",
       "      <td>3</td>\n",
       "      <td>Data Scientist</td>\n",
       "      <td>$56K-$97K (Glassdoor est.)</td>\n",
       "      <td>3.8</td>\n",
       "      <td>PNNL\\n3.8</td>\n",
       "      <td>Richland, WA</td>\n",
       "      <td>Richland, WA</td>\n",
       "      <td>1001 to 5000 employees</td>\n",
       "      <td>1965.0</td>\n",
       "      <td>Government</td>\n",
       "      <td>Energy</td>\n",
       "      <td>Oil, Gas, Energy &amp; Utilities</td>\n",
       "      <td>$500 million to $1 billion (USD)</td>\n",
       "    </tr>\n",
       "    <tr>\n",
       "      <th>4</th>\n",
       "      <td>4</td>\n",
       "      <td>Data Scientist</td>\n",
       "      <td>$86K-$143K (Glassdoor est.)</td>\n",
       "      <td>2.9</td>\n",
       "      <td>Affinity Solutions\\n2.9</td>\n",
       "      <td>New York, NY</td>\n",
       "      <td>New York, NY</td>\n",
       "      <td>51 to 200 employees</td>\n",
       "      <td>1998.0</td>\n",
       "      <td>Company - Private</td>\n",
       "      <td>Advertising &amp; Marketing</td>\n",
       "      <td>Business Services</td>\n",
       "      <td>Unknown / Non-Applicable</td>\n",
       "    </tr>\n",
       "  </tbody>\n",
       "</table>\n",
       "</div>"
      ],
      "text/plain": [
       "   Unnamed: 0                  Job Title              Salary Estimate  Rating  \\\n",
       "0           0             Data Scientist   $53K-$91K (Glassdoor est.)     3.8   \n",
       "1           1  Healthcare Data Scientist  $63K-$112K (Glassdoor est.)     3.4   \n",
       "2           2             Data Scientist   $80K-$90K (Glassdoor est.)     4.8   \n",
       "3           3             Data Scientist   $56K-$97K (Glassdoor est.)     3.8   \n",
       "4           4             Data Scientist  $86K-$143K (Glassdoor est.)     2.9   \n",
       "\n",
       "                                 Company Name         Location  \\\n",
       "0                      Tecolote Research\\n3.8  Albuquerque, NM   \n",
       "1  University of Maryland Medical System\\n3.4    Linthicum, MD   \n",
       "2                                KnowBe4\\n4.8   Clearwater, FL   \n",
       "3                                   PNNL\\n3.8     Richland, WA   \n",
       "4                     Affinity Solutions\\n2.9     New York, NY   \n",
       "\n",
       "     Headquarters                    Size  Founded   Type of ownership  \\\n",
       "0      Goleta, CA   501 to 1000 employees   1973.0   Company - Private   \n",
       "1   Baltimore, MD        10000+ employees   1984.0  Other Organization   \n",
       "2  Clearwater, FL   501 to 1000 employees   2010.0   Company - Private   \n",
       "3    Richland, WA  1001 to 5000 employees   1965.0          Government   \n",
       "4    New York, NY     51 to 200 employees   1998.0   Company - Private   \n",
       "\n",
       "                           Industry                        Sector  \\\n",
       "0               Aerospace & Defense           Aerospace & Defense   \n",
       "1  Health Care Services & Hospitals                   Health Care   \n",
       "2                 Security Services             Business Services   \n",
       "3                            Energy  Oil, Gas, Energy & Utilities   \n",
       "4           Advertising & Marketing             Business Services   \n",
       "\n",
       "                            Revenue  \n",
       "0         $50 to $100 million (USD)  \n",
       "1            $2 to $5 billion (USD)  \n",
       "2        $100 to $500 million (USD)  \n",
       "3  $500 million to $1 billion (USD)  \n",
       "4          Unknown / Non-Applicable  "
      ]
     },
     "execution_count": 618,
     "metadata": {},
     "output_type": "execute_result"
    }
   ],
   "source": [
    "df_start = df_new.iloc[:,:15]\n",
    "df_start.head()"
   ]
  },
  {
   "cell_type": "markdown",
   "id": "fffb4b59-36dc-404d-92c2-be239422ff9f",
   "metadata": {},
   "source": [
    "#### 4.2 Creating column 'hourly'"
   ]
  },
  {
   "cell_type": "code",
   "execution_count": 619,
   "id": "dfbd7ce5-62f7-4661-98ae-d57f73c7c3ba",
   "metadata": {},
   "outputs": [],
   "source": [
    "df_start['hourly'] = df_start['Salary Estimate'].apply(lambda x: 1 if 'Per Hour' in x else 0)"
   ]
  },
  {
   "cell_type": "code",
   "execution_count": 620,
   "id": "6908d1e2-ec14-4b4f-a993-7f929f4379ba",
   "metadata": {},
   "outputs": [
    {
     "data": {
      "text/plain": [
       "(24, 14)"
      ]
     },
     "execution_count": 620,
     "metadata": {},
     "output_type": "execute_result"
    }
   ],
   "source": [
    "df_start[df_start['hourly'] == 1].shape"
   ]
  },
  {
   "cell_type": "code",
   "execution_count": 621,
   "id": "db2fbc9c-3361-41b5-bc69-d21ac7edb81b",
   "metadata": {},
   "outputs": [],
   "source": [
    "df_start = df_start[df_start['hourly'] == 0]"
   ]
  },
  {
   "cell_type": "markdown",
   "id": "06157fe9-8672-4316-8035-234cfc4a7856",
   "metadata": {},
   "source": [
    "#### 4.3 Creating column 'employer_provided'"
   ]
  },
  {
   "cell_type": "code",
   "execution_count": 622,
   "id": "a559d3eb-8f0a-4086-8066-3d9c55d39115",
   "metadata": {},
   "outputs": [],
   "source": [
    "df_start['employer_provided'] = df_start['Salary Estimate'].apply(lambda x: 1 if 'Employer Provided' in x else 0)"
   ]
  },
  {
   "cell_type": "code",
   "execution_count": 623,
   "id": "1b137887-4c4c-46d6-aae8-2c9265226b2a",
   "metadata": {},
   "outputs": [
    {
     "data": {
      "text/plain": [
       "(718, 15)"
      ]
     },
     "execution_count": 623,
     "metadata": {},
     "output_type": "execute_result"
    }
   ],
   "source": [
    "df_start.shape"
   ]
  },
  {
   "cell_type": "code",
   "execution_count": 624,
   "id": "d8466959-e43e-4b6f-a0b0-6b127dea446c",
   "metadata": {},
   "outputs": [
    {
     "data": {
      "text/html": [
       "<div>\n",
       "<style scoped>\n",
       "    .dataframe tbody tr th:only-of-type {\n",
       "        vertical-align: middle;\n",
       "    }\n",
       "\n",
       "    .dataframe tbody tr th {\n",
       "        vertical-align: top;\n",
       "    }\n",
       "\n",
       "    .dataframe thead th {\n",
       "        text-align: right;\n",
       "    }\n",
       "</style>\n",
       "<table border=\"1\" class=\"dataframe\">\n",
       "  <thead>\n",
       "    <tr style=\"text-align: right;\">\n",
       "      <th></th>\n",
       "      <th>Unnamed: 0</th>\n",
       "      <th>Job Title</th>\n",
       "      <th>Salary Estimate</th>\n",
       "      <th>Rating</th>\n",
       "      <th>Company Name</th>\n",
       "      <th>Location</th>\n",
       "      <th>Headquarters</th>\n",
       "      <th>Size</th>\n",
       "      <th>Founded</th>\n",
       "      <th>Type of ownership</th>\n",
       "      <th>Industry</th>\n",
       "      <th>Sector</th>\n",
       "      <th>Revenue</th>\n",
       "      <th>hourly</th>\n",
       "      <th>employer_provided</th>\n",
       "    </tr>\n",
       "  </thead>\n",
       "  <tbody>\n",
       "    <tr>\n",
       "      <th>0</th>\n",
       "      <td>0</td>\n",
       "      <td>Data Scientist</td>\n",
       "      <td>$53K-$91K (Glassdoor est.)</td>\n",
       "      <td>3.8</td>\n",
       "      <td>Tecolote Research\\n3.8</td>\n",
       "      <td>Albuquerque, NM</td>\n",
       "      <td>Goleta, CA</td>\n",
       "      <td>501 to 1000 employees</td>\n",
       "      <td>1973.0</td>\n",
       "      <td>Company - Private</td>\n",
       "      <td>Aerospace &amp; Defense</td>\n",
       "      <td>Aerospace &amp; Defense</td>\n",
       "      <td>$50 to $100 million (USD)</td>\n",
       "      <td>0</td>\n",
       "      <td>0</td>\n",
       "    </tr>\n",
       "    <tr>\n",
       "      <th>1</th>\n",
       "      <td>1</td>\n",
       "      <td>Healthcare Data Scientist</td>\n",
       "      <td>$63K-$112K (Glassdoor est.)</td>\n",
       "      <td>3.4</td>\n",
       "      <td>University of Maryland Medical System\\n3.4</td>\n",
       "      <td>Linthicum, MD</td>\n",
       "      <td>Baltimore, MD</td>\n",
       "      <td>10000+ employees</td>\n",
       "      <td>1984.0</td>\n",
       "      <td>Other Organization</td>\n",
       "      <td>Health Care Services &amp; Hospitals</td>\n",
       "      <td>Health Care</td>\n",
       "      <td>$2 to $5 billion (USD)</td>\n",
       "      <td>0</td>\n",
       "      <td>0</td>\n",
       "    </tr>\n",
       "    <tr>\n",
       "      <th>2</th>\n",
       "      <td>2</td>\n",
       "      <td>Data Scientist</td>\n",
       "      <td>$80K-$90K (Glassdoor est.)</td>\n",
       "      <td>4.8</td>\n",
       "      <td>KnowBe4\\n4.8</td>\n",
       "      <td>Clearwater, FL</td>\n",
       "      <td>Clearwater, FL</td>\n",
       "      <td>501 to 1000 employees</td>\n",
       "      <td>2010.0</td>\n",
       "      <td>Company - Private</td>\n",
       "      <td>Security Services</td>\n",
       "      <td>Business Services</td>\n",
       "      <td>$100 to $500 million (USD)</td>\n",
       "      <td>0</td>\n",
       "      <td>0</td>\n",
       "    </tr>\n",
       "  </tbody>\n",
       "</table>\n",
       "</div>"
      ],
      "text/plain": [
       "   Unnamed: 0                  Job Title              Salary Estimate  Rating  \\\n",
       "0           0             Data Scientist   $53K-$91K (Glassdoor est.)     3.8   \n",
       "1           1  Healthcare Data Scientist  $63K-$112K (Glassdoor est.)     3.4   \n",
       "2           2             Data Scientist   $80K-$90K (Glassdoor est.)     4.8   \n",
       "\n",
       "                                 Company Name         Location  \\\n",
       "0                      Tecolote Research\\n3.8  Albuquerque, NM   \n",
       "1  University of Maryland Medical System\\n3.4    Linthicum, MD   \n",
       "2                                KnowBe4\\n4.8   Clearwater, FL   \n",
       "\n",
       "     Headquarters                   Size  Founded   Type of ownership  \\\n",
       "0      Goleta, CA  501 to 1000 employees   1973.0   Company - Private   \n",
       "1   Baltimore, MD       10000+ employees   1984.0  Other Organization   \n",
       "2  Clearwater, FL  501 to 1000 employees   2010.0   Company - Private   \n",
       "\n",
       "                           Industry               Sector  \\\n",
       "0               Aerospace & Defense  Aerospace & Defense   \n",
       "1  Health Care Services & Hospitals          Health Care   \n",
       "2                 Security Services    Business Services   \n",
       "\n",
       "                      Revenue  hourly  employer_provided  \n",
       "0   $50 to $100 million (USD)       0                  0  \n",
       "1      $2 to $5 billion (USD)       0                  0  \n",
       "2  $100 to $500 million (USD)       0                  0  "
      ]
     },
     "execution_count": 624,
     "metadata": {},
     "output_type": "execute_result"
    }
   ],
   "source": [
    "df_start.head(3)"
   ]
  },
  {
   "cell_type": "markdown",
   "id": "ba388f30-f18b-4bfc-9e80-b032a64f03e0",
   "metadata": {},
   "source": [
    "#### 4.4 Creating columns 'min_salary' and 'max_salary'"
   ]
  },
  {
   "cell_type": "code",
   "execution_count": 625,
   "id": "7567a69e-001f-44f9-b08d-77fc863873fe",
   "metadata": {},
   "outputs": [],
   "source": [
    "df_start['min_salary'] = (df_start['Salary Estimate'].apply(lambda x: re.findall(r'\\d+', x)[0]).astype(int))\n",
    "df_start['max_salary'] = (df_start['Salary Estimate'].apply(lambda x: re.findall(r'\\d+', x)[1]).astype(int))"
   ]
  },
  {
   "cell_type": "markdown",
   "id": "40bebb10-468f-4aaa-b37a-af425b047827",
   "metadata": {},
   "source": [
    "#### 4.5 Creating column 'avg_salary'"
   ]
  },
  {
   "cell_type": "code",
   "execution_count": 626,
   "id": "5754ac97-1162-4541-8db4-02edaadf0631",
   "metadata": {},
   "outputs": [],
   "source": [
    "df_start['avg_salary'] = (df_start['min_salary'] + df_start['max_salary'])/2"
   ]
  },
  {
   "cell_type": "code",
   "execution_count": 627,
   "id": "be55ded6-ac32-4142-ae59-e2f8fb5445d8",
   "metadata": {},
   "outputs": [
    {
     "data": {
      "text/plain": [
       "count    718.000000\n",
       "mean     103.153900\n",
       "std       36.898694\n",
       "min       15.500000\n",
       "25%       76.500000\n",
       "50%       98.500000\n",
       "75%      124.000000\n",
       "max      254.000000\n",
       "Name: avg_salary, dtype: float64"
      ]
     },
     "execution_count": 627,
     "metadata": {},
     "output_type": "execute_result"
    }
   ],
   "source": [
    "df_start['avg_salary'].describe()"
   ]
  },
  {
   "cell_type": "markdown",
   "id": "e9f20a83-5219-4cc9-b53b-9d9269d6e362",
   "metadata": {},
   "source": [
    "#### 4.6 Further Cleaning"
   ]
  },
  {
   "cell_type": "code",
   "execution_count": 628,
   "id": "1b7be818-cc44-447d-970f-60512a1227c3",
   "metadata": {},
   "outputs": [
    {
     "name": "stdout",
     "output_type": "stream",
     "text": [
      "Unnamed: 0          -0.025412\n",
      "Rating               0.123619\n",
      "Founded             -0.023205\n",
      "hourly                    NaN\n",
      "employer_provided    0.140916\n",
      "min_salary           0.978927\n",
      "max_salary           0.989781\n",
      "avg_salary           1.000000\n",
      "Name: avg_salary, dtype: float64\n"
     ]
    }
   ],
   "source": [
    "# Exclude non-numeric columns before computing correlations\n",
    "numeric_columns = df_start.select_dtypes(include=np.number).columns\n",
    "correlation_matrix = df_start[numeric_columns].corr()['avg_salary']\n",
    "\n",
    "print(correlation_matrix)"
   ]
  },
  {
   "cell_type": "code",
   "execution_count": 629,
   "id": "55c303df-fcee-4fea-99be-ecf3a424843e",
   "metadata": {},
   "outputs": [
    {
     "data": {
      "text/html": [
       "<div>\n",
       "<style scoped>\n",
       "    .dataframe tbody tr th:only-of-type {\n",
       "        vertical-align: middle;\n",
       "    }\n",
       "\n",
       "    .dataframe tbody tr th {\n",
       "        vertical-align: top;\n",
       "    }\n",
       "\n",
       "    .dataframe thead th {\n",
       "        text-align: right;\n",
       "    }\n",
       "</style>\n",
       "<table border=\"1\" class=\"dataframe\">\n",
       "  <thead>\n",
       "    <tr style=\"text-align: right;\">\n",
       "      <th></th>\n",
       "      <th>Unnamed: 0</th>\n",
       "      <th>Job Title</th>\n",
       "      <th>Salary Estimate</th>\n",
       "      <th>Rating</th>\n",
       "      <th>Company Name</th>\n",
       "      <th>Location</th>\n",
       "      <th>Headquarters</th>\n",
       "      <th>Size</th>\n",
       "      <th>Founded</th>\n",
       "      <th>Type of ownership</th>\n",
       "      <th>Industry</th>\n",
       "      <th>Sector</th>\n",
       "      <th>Revenue</th>\n",
       "      <th>hourly</th>\n",
       "      <th>employer_provided</th>\n",
       "      <th>min_salary</th>\n",
       "      <th>max_salary</th>\n",
       "      <th>avg_salary</th>\n",
       "    </tr>\n",
       "  </thead>\n",
       "  <tbody>\n",
       "    <tr>\n",
       "      <th>0</th>\n",
       "      <td>0</td>\n",
       "      <td>Data Scientist</td>\n",
       "      <td>$53K-$91K (Glassdoor est.)</td>\n",
       "      <td>3.8</td>\n",
       "      <td>Tecolote Research\\n3.8</td>\n",
       "      <td>Albuquerque, NM</td>\n",
       "      <td>Goleta, CA</td>\n",
       "      <td>501 to 1000 employees</td>\n",
       "      <td>1973.0</td>\n",
       "      <td>Company - Private</td>\n",
       "      <td>Aerospace &amp; Defense</td>\n",
       "      <td>Aerospace &amp; Defense</td>\n",
       "      <td>$50 to $100 million (USD)</td>\n",
       "      <td>0</td>\n",
       "      <td>0</td>\n",
       "      <td>53</td>\n",
       "      <td>91</td>\n",
       "      <td>72.0</td>\n",
       "    </tr>\n",
       "    <tr>\n",
       "      <th>1</th>\n",
       "      <td>1</td>\n",
       "      <td>Healthcare Data Scientist</td>\n",
       "      <td>$63K-$112K (Glassdoor est.)</td>\n",
       "      <td>3.4</td>\n",
       "      <td>University of Maryland Medical System\\n3.4</td>\n",
       "      <td>Linthicum, MD</td>\n",
       "      <td>Baltimore, MD</td>\n",
       "      <td>10000+ employees</td>\n",
       "      <td>1984.0</td>\n",
       "      <td>Other Organization</td>\n",
       "      <td>Health Care Services &amp; Hospitals</td>\n",
       "      <td>Health Care</td>\n",
       "      <td>$2 to $5 billion (USD)</td>\n",
       "      <td>0</td>\n",
       "      <td>0</td>\n",
       "      <td>63</td>\n",
       "      <td>112</td>\n",
       "      <td>87.5</td>\n",
       "    </tr>\n",
       "    <tr>\n",
       "      <th>2</th>\n",
       "      <td>2</td>\n",
       "      <td>Data Scientist</td>\n",
       "      <td>$80K-$90K (Glassdoor est.)</td>\n",
       "      <td>4.8</td>\n",
       "      <td>KnowBe4\\n4.8</td>\n",
       "      <td>Clearwater, FL</td>\n",
       "      <td>Clearwater, FL</td>\n",
       "      <td>501 to 1000 employees</td>\n",
       "      <td>2010.0</td>\n",
       "      <td>Company - Private</td>\n",
       "      <td>Security Services</td>\n",
       "      <td>Business Services</td>\n",
       "      <td>$100 to $500 million (USD)</td>\n",
       "      <td>0</td>\n",
       "      <td>0</td>\n",
       "      <td>80</td>\n",
       "      <td>90</td>\n",
       "      <td>85.0</td>\n",
       "    </tr>\n",
       "  </tbody>\n",
       "</table>\n",
       "</div>"
      ],
      "text/plain": [
       "   Unnamed: 0                  Job Title              Salary Estimate  Rating  \\\n",
       "0           0             Data Scientist   $53K-$91K (Glassdoor est.)     3.8   \n",
       "1           1  Healthcare Data Scientist  $63K-$112K (Glassdoor est.)     3.4   \n",
       "2           2             Data Scientist   $80K-$90K (Glassdoor est.)     4.8   \n",
       "\n",
       "                                 Company Name         Location  \\\n",
       "0                      Tecolote Research\\n3.8  Albuquerque, NM   \n",
       "1  University of Maryland Medical System\\n3.4    Linthicum, MD   \n",
       "2                                KnowBe4\\n4.8   Clearwater, FL   \n",
       "\n",
       "     Headquarters                   Size  Founded   Type of ownership  \\\n",
       "0      Goleta, CA  501 to 1000 employees   1973.0   Company - Private   \n",
       "1   Baltimore, MD       10000+ employees   1984.0  Other Organization   \n",
       "2  Clearwater, FL  501 to 1000 employees   2010.0   Company - Private   \n",
       "\n",
       "                           Industry               Sector  \\\n",
       "0               Aerospace & Defense  Aerospace & Defense   \n",
       "1  Health Care Services & Hospitals          Health Care   \n",
       "2                 Security Services    Business Services   \n",
       "\n",
       "                      Revenue  hourly  employer_provided  min_salary  \\\n",
       "0   $50 to $100 million (USD)       0                  0          53   \n",
       "1      $2 to $5 billion (USD)       0                  0          63   \n",
       "2  $100 to $500 million (USD)       0                  0          80   \n",
       "\n",
       "   max_salary  avg_salary  \n",
       "0          91        72.0  \n",
       "1         112        87.5  \n",
       "2          90        85.0  "
      ]
     },
     "execution_count": 629,
     "metadata": {},
     "output_type": "execute_result"
    }
   ],
   "source": [
    "df_start.head(3)"
   ]
  },
  {
   "cell_type": "code",
   "execution_count": 630,
   "id": "26b245ef-1c42-437f-b7c8-bd3bc9fd3724",
   "metadata": {},
   "outputs": [
    {
     "name": "stdout",
     "output_type": "stream",
     "text": [
      "Index(['Unnamed: 0', 'Job Title', 'Salary Estimate', 'Rating', 'Company Name',\n",
      "       'Location', 'Headquarters', 'Size', 'Founded', 'Type of ownership',\n",
      "       'Industry', 'Sector', 'Revenue', 'hourly', 'employer_provided',\n",
      "       'min_salary', 'max_salary', 'avg_salary'],\n",
      "      dtype='object')\n"
     ]
    }
   ],
   "source": [
    "print(df_start.columns)\n",
    "\n",
    "# Update the columns_to_drop list based on the actual columns in the DataFrame\n",
    "columns_to_drop = ['Unnamed: 0', 'Founded', 'hourly']\n",
    "columns_to_drop = [col for col in columns_to_drop if col in df_start.columns]\n",
    "\n",
    "# Drop the specified columns\n",
    "df_start = df_start.drop(columns=columns_to_drop)"
   ]
  },
  {
   "cell_type": "code",
   "execution_count": 631,
   "id": "488d9f06-63f2-4a2d-86fe-4100edabc2ec",
   "metadata": {},
   "outputs": [
    {
     "data": {
      "text/html": [
       "<div>\n",
       "<style scoped>\n",
       "    .dataframe tbody tr th:only-of-type {\n",
       "        vertical-align: middle;\n",
       "    }\n",
       "\n",
       "    .dataframe tbody tr th {\n",
       "        vertical-align: top;\n",
       "    }\n",
       "\n",
       "    .dataframe thead th {\n",
       "        text-align: right;\n",
       "    }\n",
       "</style>\n",
       "<table border=\"1\" class=\"dataframe\">\n",
       "  <thead>\n",
       "    <tr style=\"text-align: right;\">\n",
       "      <th></th>\n",
       "      <th>Job Title</th>\n",
       "      <th>Salary Estimate</th>\n",
       "      <th>Rating</th>\n",
       "      <th>Company Name</th>\n",
       "      <th>Location</th>\n",
       "      <th>Headquarters</th>\n",
       "      <th>Size</th>\n",
       "      <th>Type of ownership</th>\n",
       "      <th>Industry</th>\n",
       "      <th>Sector</th>\n",
       "      <th>Revenue</th>\n",
       "      <th>employer_provided</th>\n",
       "      <th>min_salary</th>\n",
       "      <th>max_salary</th>\n",
       "      <th>avg_salary</th>\n",
       "    </tr>\n",
       "  </thead>\n",
       "  <tbody>\n",
       "    <tr>\n",
       "      <th>0</th>\n",
       "      <td>Data Scientist</td>\n",
       "      <td>$53K-$91K (Glassdoor est.)</td>\n",
       "      <td>3.8</td>\n",
       "      <td>Tecolote Research\\n3.8</td>\n",
       "      <td>Albuquerque, NM</td>\n",
       "      <td>Goleta, CA</td>\n",
       "      <td>501 to 1000 employees</td>\n",
       "      <td>Company - Private</td>\n",
       "      <td>Aerospace &amp; Defense</td>\n",
       "      <td>Aerospace &amp; Defense</td>\n",
       "      <td>$50 to $100 million (USD)</td>\n",
       "      <td>0</td>\n",
       "      <td>53</td>\n",
       "      <td>91</td>\n",
       "      <td>72.0</td>\n",
       "    </tr>\n",
       "    <tr>\n",
       "      <th>1</th>\n",
       "      <td>Healthcare Data Scientist</td>\n",
       "      <td>$63K-$112K (Glassdoor est.)</td>\n",
       "      <td>3.4</td>\n",
       "      <td>University of Maryland Medical System\\n3.4</td>\n",
       "      <td>Linthicum, MD</td>\n",
       "      <td>Baltimore, MD</td>\n",
       "      <td>10000+ employees</td>\n",
       "      <td>Other Organization</td>\n",
       "      <td>Health Care Services &amp; Hospitals</td>\n",
       "      <td>Health Care</td>\n",
       "      <td>$2 to $5 billion (USD)</td>\n",
       "      <td>0</td>\n",
       "      <td>63</td>\n",
       "      <td>112</td>\n",
       "      <td>87.5</td>\n",
       "    </tr>\n",
       "    <tr>\n",
       "      <th>2</th>\n",
       "      <td>Data Scientist</td>\n",
       "      <td>$80K-$90K (Glassdoor est.)</td>\n",
       "      <td>4.8</td>\n",
       "      <td>KnowBe4\\n4.8</td>\n",
       "      <td>Clearwater, FL</td>\n",
       "      <td>Clearwater, FL</td>\n",
       "      <td>501 to 1000 employees</td>\n",
       "      <td>Company - Private</td>\n",
       "      <td>Security Services</td>\n",
       "      <td>Business Services</td>\n",
       "      <td>$100 to $500 million (USD)</td>\n",
       "      <td>0</td>\n",
       "      <td>80</td>\n",
       "      <td>90</td>\n",
       "      <td>85.0</td>\n",
       "    </tr>\n",
       "  </tbody>\n",
       "</table>\n",
       "</div>"
      ],
      "text/plain": [
       "                   Job Title              Salary Estimate  Rating  \\\n",
       "0             Data Scientist   $53K-$91K (Glassdoor est.)     3.8   \n",
       "1  Healthcare Data Scientist  $63K-$112K (Glassdoor est.)     3.4   \n",
       "2             Data Scientist   $80K-$90K (Glassdoor est.)     4.8   \n",
       "\n",
       "                                 Company Name         Location  \\\n",
       "0                      Tecolote Research\\n3.8  Albuquerque, NM   \n",
       "1  University of Maryland Medical System\\n3.4    Linthicum, MD   \n",
       "2                                KnowBe4\\n4.8   Clearwater, FL   \n",
       "\n",
       "     Headquarters                   Size   Type of ownership  \\\n",
       "0      Goleta, CA  501 to 1000 employees   Company - Private   \n",
       "1   Baltimore, MD       10000+ employees  Other Organization   \n",
       "2  Clearwater, FL  501 to 1000 employees   Company - Private   \n",
       "\n",
       "                           Industry               Sector  \\\n",
       "0               Aerospace & Defense  Aerospace & Defense   \n",
       "1  Health Care Services & Hospitals          Health Care   \n",
       "2                 Security Services    Business Services   \n",
       "\n",
       "                      Revenue  employer_provided  min_salary  max_salary  \\\n",
       "0   $50 to $100 million (USD)                  0          53          91   \n",
       "1      $2 to $5 billion (USD)                  0          63         112   \n",
       "2  $100 to $500 million (USD)                  0          80          90   \n",
       "\n",
       "   avg_salary  \n",
       "0        72.0  \n",
       "1        87.5  \n",
       "2        85.0  "
      ]
     },
     "execution_count": 631,
     "metadata": {},
     "output_type": "execute_result"
    }
   ],
   "source": [
    "df_start.head(3)"
   ]
  },
  {
   "cell_type": "markdown",
   "id": "412f3218-3370-480a-a8a4-1fd7fe01125a",
   "metadata": {},
   "source": [
    "#### 4.7 Checking Value Counts"
   ]
  },
  {
   "cell_type": "code",
   "execution_count": 632,
   "id": "932ea8d6-9c45-49a4-9fd3-6c41da31a725",
   "metadata": {},
   "outputs": [
    {
     "data": {
      "text/plain": [
       "Job Title\n",
       "Data Scientist                     131\n",
       "Data Engineer                       53\n",
       "Senior Data Scientist               34\n",
       "Data Analyst                        15\n",
       "Senior Data Engineer                14\n",
       "                                  ... \n",
       "Scientist 2, QC Viral Vector         1\n",
       "Data Scientist/ML Engineer           1\n",
       "Sr. Data Scientist                   1\n",
       "Data Engineer 4 - Contract           1\n",
       "Machine Learning Engineer (NLP)      1\n",
       "Name: count, Length: 254, dtype: int64"
      ]
     },
     "execution_count": 632,
     "metadata": {},
     "output_type": "execute_result"
    }
   ],
   "source": [
    "df_start['Job Title'].value_counts()"
   ]
  },
  {
   "cell_type": "code",
   "execution_count": 633,
   "id": "30c81ab1-17ca-489f-bd7a-bd39fe3c68db",
   "metadata": {},
   "outputs": [
    {
     "data": {
      "text/plain": [
       "Job Title Category\n",
       "Scientist    416\n",
       "Engineer     149\n",
       "Analyst       96\n",
       "Other         57\n",
       "Name: count, dtype: int64"
      ]
     },
     "execution_count": 633,
     "metadata": {},
     "output_type": "execute_result"
    }
   ],
   "source": [
    "# Define keywords\n",
    "keywords = ['Scientist', 'Engineer', 'Analyst']\n",
    "\n",
    "# Function to categorize job titles\n",
    "def categorize_job_title(title):\n",
    "    for keyword in keywords:\n",
    "        if keyword.lower() in title.lower():\n",
    "            return keyword\n",
    "    return 'Other'\n",
    "\n",
    "# Create a new column 'Job Title Category' using the categorize_job_title function\n",
    "df_start['Job Title Category'] = df_start['Job Title'].apply(categorize_job_title)\n",
    "\n",
    "# Display the updated DataFrame\n",
    "df_start['Job Title Category'].value_counts()"
   ]
  },
  {
   "cell_type": "code",
   "execution_count": 634,
   "id": "52196cd4-b5af-49c6-9b29-80b6732216e1",
   "metadata": {},
   "outputs": [
    {
     "data": {
      "image/png": "[encoded data removed]",
      "text/plain": [
       "<Figure size 1000x600 with 1 Axes>"
      ]
     },
     "metadata": {},
     "output_type": "display_data"
    }
   ],
   "source": [
    "plt.figure(figsize=(10, 6))\n",
    "df_start.groupby('Job Title Category')['avg_salary'].mean().sort_values().plot(kind='barh', color='lightgreen')\n",
    "plt.xlabel('Average Salary K$')\n",
    "plt.ylabel('Job Title Category')\n",
    "plt.title('Average Salary (Yearly) by Job Title Category')\n",
    "plt.show()"
   ]
  },
  {
   "cell_type": "code",
   "execution_count": 635,
   "id": "cb8620df-d41d-4320-a68c-1dcf196258b3",
   "metadata": {},
   "outputs": [
    {
     "name": "stdout",
     "output_type": "stream",
     "text": [
      "[3 0 1 2]\n"
     ]
    }
   ],
   "source": [
    "# Initialize LabelEncoder\n",
    "label_encoder = LabelEncoder()\n",
    "\n",
    "# Fit and transform the 'Job Title Category' column\n",
    "df_start['Job Title Category Encoded'] = label_encoder.fit_transform(df_start['Job Title Category'])\n",
    "\n",
    "# Display the unique encoded values\n",
    "print(df_start['Job Title Category Encoded'].unique())"
   ]
  },
  {
   "cell_type": "code",
   "execution_count": 636,
   "id": "e6362cce-e2c9-4aa7-9ad7-5069ceb8d6e3",
   "metadata": {},
   "outputs": [
    {
     "data": {
      "text/plain": [
       "334"
      ]
     },
     "execution_count": 636,
     "metadata": {},
     "output_type": "execute_result"
    }
   ],
   "source": [
    "len(df_start['Company Name'].value_counts())"
   ]
  },
  {
   "cell_type": "code",
   "execution_count": 637,
   "id": "34b170ad-a429-42c8-a6b6-e575a111c406",
   "metadata": {},
   "outputs": [
    {
     "data": {
      "text/plain": [
       "Location\n",
       "New York, NY         55\n",
       "San Francisco, CA    49\n",
       "Cambridge, MA        44\n",
       "Chicago, IL          32\n",
       "Boston, MA           23\n",
       "                     ..\n",
       "Columbia, SC          1\n",
       "Red Bank, NJ          1\n",
       "San Ramon, CA         1\n",
       "Pella, IA             1\n",
       "Olympia, WA           1\n",
       "Name: count, Length: 194, dtype: int64"
      ]
     },
     "execution_count": 637,
     "metadata": {},
     "output_type": "execute_result"
    }
   ],
   "source": [
    "df_start['Location'].value_counts()"
   ]
  },
  {
   "cell_type": "code",
   "execution_count": 638,
   "id": "7531d2eb-9090-46f3-951d-d3b40d3b3cd1",
   "metadata": {},
   "outputs": [
    {
     "data": {
      "text/html": [
       "<div>\n",
       "<style scoped>\n",
       "    .dataframe tbody tr th:only-of-type {\n",
       "        vertical-align: middle;\n",
       "    }\n",
       "\n",
       "    .dataframe tbody tr th {\n",
       "        vertical-align: top;\n",
       "    }\n",
       "\n",
       "    .dataframe thead th {\n",
       "        text-align: right;\n",
       "    }\n",
       "</style>\n",
       "<table border=\"1\" class=\"dataframe\">\n",
       "  <thead>\n",
       "    <tr style=\"text-align: right;\">\n",
       "      <th></th>\n",
       "      <th>Location</th>\n",
       "      <th>Location_Encoded</th>\n",
       "    </tr>\n",
       "  </thead>\n",
       "  <tbody>\n",
       "    <tr>\n",
       "      <th>0</th>\n",
       "      <td>Albuquerque, NM</td>\n",
       "      <td>3</td>\n",
       "    </tr>\n",
       "    <tr>\n",
       "      <th>1</th>\n",
       "      <td>Linthicum, MD</td>\n",
       "      <td>97</td>\n",
       "    </tr>\n",
       "    <tr>\n",
       "      <th>2</th>\n",
       "      <td>Clearwater, FL</td>\n",
       "      <td>41</td>\n",
       "    </tr>\n",
       "    <tr>\n",
       "      <th>3</th>\n",
       "      <td>Richland, WA</td>\n",
       "      <td>151</td>\n",
       "    </tr>\n",
       "    <tr>\n",
       "      <th>4</th>\n",
       "      <td>New York, NY</td>\n",
       "      <td>119</td>\n",
       "    </tr>\n",
       "    <tr>\n",
       "      <th>...</th>\n",
       "      <td>...</td>\n",
       "      <td>...</td>\n",
       "    </tr>\n",
       "    <tr>\n",
       "      <th>950</th>\n",
       "      <td>Cambridge, MA</td>\n",
       "      <td>29</td>\n",
       "    </tr>\n",
       "    <tr>\n",
       "      <th>951</th>\n",
       "      <td>Nashville, TN</td>\n",
       "      <td>116</td>\n",
       "    </tr>\n",
       "    <tr>\n",
       "      <th>952</th>\n",
       "      <td>Pittsburgh, PA</td>\n",
       "      <td>138</td>\n",
       "    </tr>\n",
       "    <tr>\n",
       "      <th>953</th>\n",
       "      <td>Allentown, PA</td>\n",
       "      <td>7</td>\n",
       "    </tr>\n",
       "    <tr>\n",
       "      <th>955</th>\n",
       "      <td>Beavercreek, OH</td>\n",
       "      <td>19</td>\n",
       "    </tr>\n",
       "  </tbody>\n",
       "</table>\n",
       "<p>718 rows × 2 columns</p>\n",
       "</div>"
      ],
      "text/plain": [
       "            Location  Location_Encoded\n",
       "0    Albuquerque, NM                 3\n",
       "1      Linthicum, MD                97\n",
       "2     Clearwater, FL                41\n",
       "3       Richland, WA               151\n",
       "4       New York, NY               119\n",
       "..               ...               ...\n",
       "950    Cambridge, MA                29\n",
       "951    Nashville, TN               116\n",
       "952   Pittsburgh, PA               138\n",
       "953    Allentown, PA                 7\n",
       "955  Beavercreek, OH                19\n",
       "\n",
       "[718 rows x 2 columns]"
      ]
     },
     "execution_count": 638,
     "metadata": {},
     "output_type": "execute_result"
    }
   ],
   "source": [
    "from sklearn.preprocessing import LabelEncoder\n",
    "\n",
    "# Initialize the LabelEncoder\n",
    "label_encoder = LabelEncoder()\n",
    "\n",
    "# Fit and transform the 'Location' column\n",
    "df_start['Location_Encoded'] = label_encoder.fit_transform(df_start['Location'])\n",
    "\n",
    "# Display the updated DataFrame\n",
    "df_start[['Location', 'Location_Encoded']]"
   ]
  },
  {
   "cell_type": "code",
   "execution_count": 639,
   "id": "bc7a1dd5-bceb-4c70-b7b7-ab1b72886f57",
   "metadata": {},
   "outputs": [
    {
     "data": {
      "text/plain": [
       "190"
      ]
     },
     "execution_count": 639,
     "metadata": {},
     "output_type": "execute_result"
    }
   ],
   "source": [
    "len(df_start['Headquarters'].value_counts())"
   ]
  },
  {
   "cell_type": "code",
   "execution_count": 640,
   "id": "eab42d31-cf5d-4cb2-900c-472a2cc72238",
   "metadata": {},
   "outputs": [
    {
     "data": {
      "text/plain": [
       "8"
      ]
     },
     "execution_count": 640,
     "metadata": {},
     "output_type": "execute_result"
    }
   ],
   "source": [
    "len(df_start['Size'].value_counts())"
   ]
  },
  {
   "cell_type": "code",
   "execution_count": 641,
   "id": "ce88c86d-a749-46bf-820a-f47765103425",
   "metadata": {},
   "outputs": [
    {
     "data": {
      "text/plain": [
       "Size\n",
       "1001 to 5000 employees     140\n",
       "501 to 1000 employees      131\n",
       "10000+ employees           127\n",
       "201 to 500 employees       117\n",
       "51 to 200 employees         93\n",
       "5001 to 10000 employees     72\n",
       "1 to 50 employees           28\n",
       "Unknown                      9\n",
       "Name: count, dtype: int64"
      ]
     },
     "execution_count": 641,
     "metadata": {},
     "output_type": "execute_result"
    }
   ],
   "source": [
    "df_start['Size'].value_counts()"
   ]
  },
  {
   "cell_type": "code",
   "execution_count": 642,
   "id": "1367d61a-aaaa-4dc9-8995-7457bc1e9cd0",
   "metadata": {},
   "outputs": [
    {
     "data": {
      "image/png": "[encoded data removed]",
      "text/plain": [
       "<Figure size 1200x600 with 1 Axes>"
      ]
     },
     "metadata": {},
     "output_type": "display_data"
    }
   ],
   "source": [
    "# Group by 'Size' and calculate the average salary\n",
    "size_avg_salary = df_start.groupby('Size')['avg_salary'].mean().sort_values()\n",
    "\n",
    "# Plotting with x and y axes exchanged\n",
    "plt.figure(figsize=(12, 6))\n",
    "size_avg_salary.plot(kind='barh', color='lightblue')  # Use 'barh' for horizontal bar plot\n",
    "plt.title('Average Salary by Company Size')\n",
    "plt.xlabel('Average Salary')\n",
    "plt.ylabel('Company Size')\n",
    "plt.show()"
   ]
  },
  {
   "cell_type": "code",
   "execution_count": 643,
   "id": "281fb1b5-cd72-40f7-8b14-80fb5901ba5c",
   "metadata": {},
   "outputs": [
    {
     "data": {
      "text/plain": [
       "10"
      ]
     },
     "execution_count": 643,
     "metadata": {},
     "output_type": "execute_result"
    }
   ],
   "source": [
    "len(df_start['Type of ownership'].value_counts())"
   ]
  },
  {
   "cell_type": "code",
   "execution_count": 644,
   "id": "1c096129-f0a9-4796-b202-9ba97e6f5be4",
   "metadata": {},
   "outputs": [
    {
     "data": {
      "text/plain": [
       "Type of ownership\n",
       "Company - Private                 406\n",
       "Company - Public                  191\n",
       "Nonprofit Organization             45\n",
       "Subsidiary or Business Segment     34\n",
       "Government                         14\n",
       "College / University               13\n",
       "Hospital                            8\n",
       "Other Organization                  3\n",
       "School / School District            2\n",
       "Unknown                             1\n",
       "Name: count, dtype: int64"
      ]
     },
     "execution_count": 644,
     "metadata": {},
     "output_type": "execute_result"
    }
   ],
   "source": [
    "df_start['Type of ownership'].value_counts()"
   ]
  },
  {
   "cell_type": "code",
   "execution_count": 645,
   "id": "a7bb816a-f1c3-4cc5-96f5-a364eeca5936",
   "metadata": {},
   "outputs": [
    {
     "data": {
      "text/plain": [
       "Ownership Category\n",
       "Private       406\n",
       "Public        191\n",
       "Other          62\n",
       "Nonprofit      45\n",
       "Government     14\n",
       "Name: count, dtype: int64"
      ]
     },
     "execution_count": 645,
     "metadata": {},
     "output_type": "execute_result"
    }
   ],
   "source": [
    "keywords = ['Private', 'Public', 'Government','Nonprofit']\n",
    "\n",
    "# Function to categorize ownership types\n",
    "def categorize_ownership(title):\n",
    "    if pd.isna(title):\n",
    "        return 'Other'\n",
    "    \n",
    "    for keyword in keywords:\n",
    "        if keyword.lower() in str(title).lower():\n",
    "            return keyword\n",
    "    \n",
    "    return 'Other'\n",
    "\n",
    "# Create a new column 'Ownership Category' using the categorize_ownership function\n",
    "df_start['Ownership Category'] = df_start['Type of ownership'].apply(categorize_ownership)\n",
    "\n",
    "# Display the updated DataFrame\n",
    "df_start['Ownership Category'].value_counts()"
   ]
  },
  {
   "cell_type": "code",
   "execution_count": 646,
   "id": "f32b0fe9-2fe4-4619-ab16-809a58b445cb",
   "metadata": {},
   "outputs": [
    {
     "data": {
      "text/plain": [
       "58"
      ]
     },
     "execution_count": 646,
     "metadata": {},
     "output_type": "execute_result"
    }
   ],
   "source": [
    "len(df_start['Industry'].value_counts())"
   ]
  },
  {
   "cell_type": "code",
   "execution_count": 647,
   "id": "7ff67d39-1386-47e7-9047-b57ab91ff3a8",
   "metadata": {},
   "outputs": [
    {
     "data": {
      "text/plain": [
       "Industry\n",
       "Biotech & Pharmaceuticals                   111\n",
       "Insurance Carriers                           63\n",
       "Computer Hardware & Software                 59\n",
       "IT Services                                  50\n",
       "Enterprise Software & Network Solutions      42\n",
       "Health Care Services & Hospitals             32\n",
       "Internet                                     29\n",
       "Consulting                                   29\n",
       "Aerospace & Defense                          25\n",
       "Advertising & Marketing                      25\n",
       "Consumer Products Manufacturing              20\n",
       "Research & Development                       19\n",
       "Colleges & Universities                      16\n",
       "Energy                                       14\n",
       "Banks & Credit Unions                        12\n",
       "Federal Agencies                             10\n",
       "Staffing & Outsourcing                       10\n",
       "Travel Agencies                               8\n",
       "Lending                                       8\n",
       "Food & Beverage Manufacturing                 8\n",
       "Financial Analytics & Research                8\n",
       "Real Estate                                   8\n",
       "Security Services                             7\n",
       "Insurance Agencies & Brokerages               6\n",
       "Religious Organizations                       6\n",
       "Department, Clothing, & Shoe Stores           6\n",
       "Investment Banking & Asset Management         5\n",
       "Telecommunications Services                   4\n",
       "K2 Education                                  4\n",
       "Gas Stations                                  4\n",
       "Gambling                                      4\n",
       "Industrial Manufacturing                      4\n",
       "Architectural & Engineering Services          4\n",
       "Logistics & Supply Chain                      4\n",
       "Social Assistance                             3\n",
       "Stock Exchanges                               3\n",
       "Education Training Services                   3\n",
       "Video Games                                   3\n",
       "Consumer Product Rental                       3\n",
       "Wholesale                                     3\n",
       "Transportation Management                     3\n",
       "Financial Transaction Processing              2\n",
       "Metals Brokers                                2\n",
       "Telecommunications Manufacturing              2\n",
       "Sporting Goods Stores                         2\n",
       "TV Broadcast & Cable Networks                 2\n",
       "Brokerage Services                            2\n",
       "Health, Beauty, & Fitness                     1\n",
       "Health Care Products Manufacturing            1\n",
       "Accounting                                    1\n",
       "Other Retail Stores                           1\n",
       "Auctions & Galleries                          1\n",
       "Trucking                                      1\n",
       "Farm Support Services                         1\n",
       "Transportation Equipment Manufacturing        1\n",
       "Motion Picture Production & Distribution      1\n",
       "Mining                                        1\n",
       "Beauty & Personal Accessories Stores          1\n",
       "Name: count, dtype: int64"
      ]
     },
     "execution_count": 647,
     "metadata": {},
     "output_type": "execute_result"
    }
   ],
   "source": [
    "df_start['Industry'].value_counts()"
   ]
  },
  {
   "cell_type": "code",
   "execution_count": 648,
   "id": "68bc4e46-767f-4cf7-a2f2-d274513ab665",
   "metadata": {},
   "outputs": [
    {
     "data": {
      "text/plain": [
       "23"
      ]
     },
     "execution_count": 648,
     "metadata": {},
     "output_type": "execute_result"
    }
   ],
   "source": [
    "len(df_start['Sector'].value_counts())"
   ]
  },
  {
   "cell_type": "code",
   "execution_count": 649,
   "id": "5c1b612c-3e7f-4c1b-9108-8cbf93ab6873",
   "metadata": {},
   "outputs": [
    {
     "data": {
      "text/plain": [
       "Sector\n",
       "Information Technology              180\n",
       "Biotech & Pharmaceuticals           111\n",
       "Business Services                    97\n",
       "Insurance                            69\n",
       "Finance                              40\n",
       "Manufacturing                        34\n",
       "Health Care                          32\n",
       "Aerospace & Defense                  25\n",
       "Education                            23\n",
       "Retail                               15\n",
       "Oil, Gas, Energy & Utilities         14\n",
       "Government                           10\n",
       "Non-Profit                            9\n",
       "Travel & Tourism                      8\n",
       "Transportation & Logistics            8\n",
       "Real Estate                           8\n",
       "Telecommunications                    6\n",
       "Media                                 6\n",
       "Arts, Entertainment & Recreation      4\n",
       "Consumer Services                     4\n",
       "Mining & Metals                       3\n",
       "Agriculture & Forestry                1\n",
       "Accounting & Legal                    1\n",
       "Name: count, dtype: int64"
      ]
     },
     "execution_count": 649,
     "metadata": {},
     "output_type": "execute_result"
    }
   ],
   "source": [
    "df_start['Sector'].value_counts()"
   ]
  },
  {
   "cell_type": "code",
   "execution_count": 650,
   "id": "e4851c84-b054-4672-8663-5564fb76eca7",
   "metadata": {},
   "outputs": [
    {
     "data": {
      "text/plain": [
       "13"
      ]
     },
     "execution_count": 650,
     "metadata": {},
     "output_type": "execute_result"
    }
   ],
   "source": [
    "len(df_start['Revenue'].value_counts())"
   ]
  },
  {
   "cell_type": "code",
   "execution_count": 651,
   "id": "f5abb21c-e52c-4bf6-9dcc-77c5fd99f32a",
   "metadata": {},
   "outputs": [
    {
     "data": {
      "text/plain": [
       "Revenue\n",
       "Unknown / Non-Applicable            197\n",
       "$10+ billion (USD)                  122\n",
       "$100 to $500 million (USD)           82\n",
       "$1 to $2 billion (USD)               60\n",
       "$500 million to $1 billion (USD)     57\n",
       "$50 to $100 million (USD)            42\n",
       "$25 to $50 million (USD)             40\n",
       "$2 to $5 billion (USD)               37\n",
       "$10 to $25 million (USD)             31\n",
       "$5 to $10 billion (USD)              19\n",
       "$5 to $10 million (USD)              18\n",
       "$1 to $5 million (USD)                8\n",
       "Less than $1 million (USD)            4\n",
       "Name: count, dtype: int64"
      ]
     },
     "execution_count": 651,
     "metadata": {},
     "output_type": "execute_result"
    }
   ],
   "source": [
    "df_start['Revenue'].value_counts()"
   ]
  },
  {
   "cell_type": "code",
   "execution_count": 652,
   "id": "892916d4-33d1-444a-bcca-9329d5d9db5c",
   "metadata": {},
   "outputs": [],
   "source": [
    "columns_to_remove = ['Company Name', 'Headquarters','Job Title', 'Salary Estimate', 'Location', 'Type of ownership','Job Title Category' ]\n",
    "df_start = df_start.drop(columns=columns_to_remove)"
   ]
  },
  {
   "cell_type": "code",
   "execution_count": 653,
   "id": "beeadc8d-b86d-42a5-99fa-e1f5309ca72e",
   "metadata": {},
   "outputs": [
    {
     "data": {
      "text/html": [
       "<div>\n",
       "<style scoped>\n",
       "    .dataframe tbody tr th:only-of-type {\n",
       "        vertical-align: middle;\n",
       "    }\n",
       "\n",
       "    .dataframe tbody tr th {\n",
       "        vertical-align: top;\n",
       "    }\n",
       "\n",
       "    .dataframe thead th {\n",
       "        text-align: right;\n",
       "    }\n",
       "</style>\n",
       "<table border=\"1\" class=\"dataframe\">\n",
       "  <thead>\n",
       "    <tr style=\"text-align: right;\">\n",
       "      <th></th>\n",
       "      <th>Rating</th>\n",
       "      <th>Size</th>\n",
       "      <th>Industry</th>\n",
       "      <th>Sector</th>\n",
       "      <th>Revenue</th>\n",
       "      <th>employer_provided</th>\n",
       "      <th>min_salary</th>\n",
       "      <th>max_salary</th>\n",
       "      <th>avg_salary</th>\n",
       "      <th>Job Title Category Encoded</th>\n",
       "      <th>Location_Encoded</th>\n",
       "      <th>Ownership Category</th>\n",
       "    </tr>\n",
       "  </thead>\n",
       "  <tbody>\n",
       "    <tr>\n",
       "      <th>0</th>\n",
       "      <td>3.8</td>\n",
       "      <td>501 to 1000 employees</td>\n",
       "      <td>Aerospace &amp; Defense</td>\n",
       "      <td>Aerospace &amp; Defense</td>\n",
       "      <td>$50 to $100 million (USD)</td>\n",
       "      <td>0</td>\n",
       "      <td>53</td>\n",
       "      <td>91</td>\n",
       "      <td>72.0</td>\n",
       "      <td>3</td>\n",
       "      <td>3</td>\n",
       "      <td>Private</td>\n",
       "    </tr>\n",
       "    <tr>\n",
       "      <th>1</th>\n",
       "      <td>3.4</td>\n",
       "      <td>10000+ employees</td>\n",
       "      <td>Health Care Services &amp; Hospitals</td>\n",
       "      <td>Health Care</td>\n",
       "      <td>$2 to $5 billion (USD)</td>\n",
       "      <td>0</td>\n",
       "      <td>63</td>\n",
       "      <td>112</td>\n",
       "      <td>87.5</td>\n",
       "      <td>3</td>\n",
       "      <td>97</td>\n",
       "      <td>Other</td>\n",
       "    </tr>\n",
       "    <tr>\n",
       "      <th>2</th>\n",
       "      <td>4.8</td>\n",
       "      <td>501 to 1000 employees</td>\n",
       "      <td>Security Services</td>\n",
       "      <td>Business Services</td>\n",
       "      <td>$100 to $500 million (USD)</td>\n",
       "      <td>0</td>\n",
       "      <td>80</td>\n",
       "      <td>90</td>\n",
       "      <td>85.0</td>\n",
       "      <td>3</td>\n",
       "      <td>41</td>\n",
       "      <td>Private</td>\n",
       "    </tr>\n",
       "  </tbody>\n",
       "</table>\n",
       "</div>"
      ],
      "text/plain": [
       "   Rating                   Size                          Industry  \\\n",
       "0     3.8  501 to 1000 employees               Aerospace & Defense   \n",
       "1     3.4       10000+ employees  Health Care Services & Hospitals   \n",
       "2     4.8  501 to 1000 employees                 Security Services   \n",
       "\n",
       "                Sector                     Revenue  employer_provided  \\\n",
       "0  Aerospace & Defense   $50 to $100 million (USD)                  0   \n",
       "1          Health Care      $2 to $5 billion (USD)                  0   \n",
       "2    Business Services  $100 to $500 million (USD)                  0   \n",
       "\n",
       "   min_salary  max_salary  avg_salary  Job Title Category Encoded  \\\n",
       "0          53          91        72.0                           3   \n",
       "1          63         112        87.5                           3   \n",
       "2          80          90        85.0                           3   \n",
       "\n",
       "   Location_Encoded Ownership Category  \n",
       "0                 3            Private  \n",
       "1                97              Other  \n",
       "2                41            Private  "
      ]
     },
     "execution_count": 653,
     "metadata": {},
     "output_type": "execute_result"
    }
   ],
   "source": [
    "df_start.head(3)"
   ]
  },
  {
   "cell_type": "code",
   "execution_count": 654,
   "id": "faf6bff6-3a7e-424e-bb12-3adfe9f5f442",
   "metadata": {},
   "outputs": [],
   "source": [
    "# Extract 'Job Title Category Encoded' column\n",
    "job_title_category_encoded = df_start['Job Title Category Encoded']\n",
    "\n",
    "# Drop the 'Job Title Category Encoded' column from its current position\n",
    "df_start = df_start.drop(columns=['Job Title Category Encoded'])\n",
    "\n",
    "# Insert the 'Job Title Category Encoded' column at the beginning\n",
    "df_start.insert(0, 'Job Title Category Encoded', job_title_category_encoded)"
   ]
  },
  {
   "cell_type": "code",
   "execution_count": 655,
   "id": "f2323817-643d-4115-b5ab-d038fb86604d",
   "metadata": {},
   "outputs": [
    {
     "data": {
      "text/html": [
       "<div>\n",
       "<style scoped>\n",
       "    .dataframe tbody tr th:only-of-type {\n",
       "        vertical-align: middle;\n",
       "    }\n",
       "\n",
       "    .dataframe tbody tr th {\n",
       "        vertical-align: top;\n",
       "    }\n",
       "\n",
       "    .dataframe thead th {\n",
       "        text-align: right;\n",
       "    }\n",
       "</style>\n",
       "<table border=\"1\" class=\"dataframe\">\n",
       "  <thead>\n",
       "    <tr style=\"text-align: right;\">\n",
       "      <th></th>\n",
       "      <th>Job Title Category Encoded</th>\n",
       "      <th>Rating</th>\n",
       "      <th>Size</th>\n",
       "      <th>Industry</th>\n",
       "      <th>Sector</th>\n",
       "      <th>Revenue</th>\n",
       "      <th>employer_provided</th>\n",
       "      <th>min_salary</th>\n",
       "      <th>max_salary</th>\n",
       "      <th>avg_salary</th>\n",
       "      <th>Location_Encoded</th>\n",
       "      <th>Ownership Category</th>\n",
       "    </tr>\n",
       "  </thead>\n",
       "  <tbody>\n",
       "    <tr>\n",
       "      <th>0</th>\n",
       "      <td>3</td>\n",
       "      <td>3.8</td>\n",
       "      <td>501 to 1000 employees</td>\n",
       "      <td>Aerospace &amp; Defense</td>\n",
       "      <td>Aerospace &amp; Defense</td>\n",
       "      <td>$50 to $100 million (USD)</td>\n",
       "      <td>0</td>\n",
       "      <td>53</td>\n",
       "      <td>91</td>\n",
       "      <td>72.0</td>\n",
       "      <td>3</td>\n",
       "      <td>Private</td>\n",
       "    </tr>\n",
       "    <tr>\n",
       "      <th>1</th>\n",
       "      <td>3</td>\n",
       "      <td>3.4</td>\n",
       "      <td>10000+ employees</td>\n",
       "      <td>Health Care Services &amp; Hospitals</td>\n",
       "      <td>Health Care</td>\n",
       "      <td>$2 to $5 billion (USD)</td>\n",
       "      <td>0</td>\n",
       "      <td>63</td>\n",
       "      <td>112</td>\n",
       "      <td>87.5</td>\n",
       "      <td>97</td>\n",
       "      <td>Other</td>\n",
       "    </tr>\n",
       "    <tr>\n",
       "      <th>2</th>\n",
       "      <td>3</td>\n",
       "      <td>4.8</td>\n",
       "      <td>501 to 1000 employees</td>\n",
       "      <td>Security Services</td>\n",
       "      <td>Business Services</td>\n",
       "      <td>$100 to $500 million (USD)</td>\n",
       "      <td>0</td>\n",
       "      <td>80</td>\n",
       "      <td>90</td>\n",
       "      <td>85.0</td>\n",
       "      <td>41</td>\n",
       "      <td>Private</td>\n",
       "    </tr>\n",
       "  </tbody>\n",
       "</table>\n",
       "</div>"
      ],
      "text/plain": [
       "   Job Title Category Encoded  Rating                   Size  \\\n",
       "0                           3     3.8  501 to 1000 employees   \n",
       "1                           3     3.4       10000+ employees   \n",
       "2                           3     4.8  501 to 1000 employees   \n",
       "\n",
       "                           Industry               Sector  \\\n",
       "0               Aerospace & Defense  Aerospace & Defense   \n",
       "1  Health Care Services & Hospitals          Health Care   \n",
       "2                 Security Services    Business Services   \n",
       "\n",
       "                      Revenue  employer_provided  min_salary  max_salary  \\\n",
       "0   $50 to $100 million (USD)                  0          53          91   \n",
       "1      $2 to $5 billion (USD)                  0          63         112   \n",
       "2  $100 to $500 million (USD)                  0          80          90   \n",
       "\n",
       "   avg_salary  Location_Encoded Ownership Category  \n",
       "0        72.0                 3            Private  \n",
       "1        87.5                97              Other  \n",
       "2        85.0                41            Private  "
      ]
     },
     "execution_count": 655,
     "metadata": {},
     "output_type": "execute_result"
    }
   ],
   "source": [
    "df_start.head(3)"
   ]
  },
  {
   "cell_type": "code",
   "execution_count": 656,
   "id": "df58eafb-5384-4f95-a004-c1ab95c5cc4f",
   "metadata": {},
   "outputs": [
    {
     "name": "stdout",
     "output_type": "stream",
     "text": [
      "Job Title Category Encoded    0.338553\n",
      "Rating                        0.123619\n",
      "employer_provided             0.140916\n",
      "min_salary                    0.978927\n",
      "max_salary                    0.989781\n",
      "avg_salary                    1.000000\n",
      "Location_Encoded             -0.003852\n",
      "Name: avg_salary, dtype: float64\n"
     ]
    }
   ],
   "source": [
    "# Exclude non-numeric columns before computing correlations\n",
    "numeric_columns = df_start.select_dtypes(include=np.number).columns\n",
    "correlation_matrix = df_start[numeric_columns].corr()['avg_salary']\n",
    "\n",
    "print(correlation_matrix)"
   ]
  },
  {
   "cell_type": "code",
   "execution_count": 657,
   "id": "e3adeac6-b187-49c4-a9dc-b6149ce0c529",
   "metadata": {},
   "outputs": [],
   "source": [
    "df_start = df_start.drop('Location_Encoded', axis=1)"
   ]
  },
  {
   "cell_type": "markdown",
   "id": "00c061e3-c9e4-4c97-bbff-b971a6030acc",
   "metadata": {},
   "source": [
    "#### 4.8 One hot encoding the rest"
   ]
  },
  {
   "cell_type": "code",
   "execution_count": 658,
   "id": "5492e10e-7995-4b5c-9253-a7cd28e5692c",
   "metadata": {},
   "outputs": [],
   "source": [
    "df_start = pd.get_dummies(df_start)"
   ]
  },
  {
   "cell_type": "code",
   "execution_count": 659,
   "id": "037caa5a-4ea0-443a-86a4-5ffbb2019bad",
   "metadata": {},
   "outputs": [],
   "source": [
    "# Get all columns except 'Rating'\n",
    "columns_to_convert = [col for col in df_start.columns if col != 'Rating']\n",
    "\n",
    "# Convert True/False to 1/0 for all columns (except 'Rating')\n",
    "df_start[columns_to_convert] = df_start[columns_to_convert].astype(int)"
   ]
  },
  {
   "cell_type": "code",
   "execution_count": 660,
   "id": "b0b04992-f0f6-4c92-ad78-1d8a7786eaad",
   "metadata": {},
   "outputs": [
    {
     "data": {
      "text/html": [
       "<div>\n",
       "<style scoped>\n",
       "    .dataframe tbody tr th:only-of-type {\n",
       "        vertical-align: middle;\n",
       "    }\n",
       "\n",
       "    .dataframe tbody tr th {\n",
       "        vertical-align: top;\n",
       "    }\n",
       "\n",
       "    .dataframe thead th {\n",
       "        text-align: right;\n",
       "    }\n",
       "</style>\n",
       "<table border=\"1\" class=\"dataframe\">\n",
       "  <thead>\n",
       "    <tr style=\"text-align: right;\">\n",
       "      <th></th>\n",
       "      <th>Job Title Category Encoded</th>\n",
       "      <th>Rating</th>\n",
       "      <th>employer_provided</th>\n",
       "      <th>min_salary</th>\n",
       "      <th>max_salary</th>\n",
       "      <th>avg_salary</th>\n",
       "      <th>Size_1 to 50 employees</th>\n",
       "      <th>Size_10000+ employees</th>\n",
       "      <th>Size_1001 to 5000 employees</th>\n",
       "      <th>Size_201 to 500 employees</th>\n",
       "      <th>...</th>\n",
       "      <th>Revenue_$5 to $10 million (USD)</th>\n",
       "      <th>Revenue_$50 to $100 million (USD)</th>\n",
       "      <th>Revenue_$500 million to $1 billion (USD)</th>\n",
       "      <th>Revenue_Less than $1 million (USD)</th>\n",
       "      <th>Revenue_Unknown / Non-Applicable</th>\n",
       "      <th>Ownership Category_Government</th>\n",
       "      <th>Ownership Category_Nonprofit</th>\n",
       "      <th>Ownership Category_Other</th>\n",
       "      <th>Ownership Category_Private</th>\n",
       "      <th>Ownership Category_Public</th>\n",
       "    </tr>\n",
       "  </thead>\n",
       "  <tbody>\n",
       "    <tr>\n",
       "      <th>0</th>\n",
       "      <td>3</td>\n",
       "      <td>3.8</td>\n",
       "      <td>0</td>\n",
       "      <td>53</td>\n",
       "      <td>91</td>\n",
       "      <td>72</td>\n",
       "      <td>0</td>\n",
       "      <td>0</td>\n",
       "      <td>0</td>\n",
       "      <td>0</td>\n",
       "      <td>...</td>\n",
       "      <td>0</td>\n",
       "      <td>1</td>\n",
       "      <td>0</td>\n",
       "      <td>0</td>\n",
       "      <td>0</td>\n",
       "      <td>0</td>\n",
       "      <td>0</td>\n",
       "      <td>0</td>\n",
       "      <td>1</td>\n",
       "      <td>0</td>\n",
       "    </tr>\n",
       "    <tr>\n",
       "      <th>1</th>\n",
       "      <td>3</td>\n",
       "      <td>3.4</td>\n",
       "      <td>0</td>\n",
       "      <td>63</td>\n",
       "      <td>112</td>\n",
       "      <td>87</td>\n",
       "      <td>0</td>\n",
       "      <td>1</td>\n",
       "      <td>0</td>\n",
       "      <td>0</td>\n",
       "      <td>...</td>\n",
       "      <td>0</td>\n",
       "      <td>0</td>\n",
       "      <td>0</td>\n",
       "      <td>0</td>\n",
       "      <td>0</td>\n",
       "      <td>0</td>\n",
       "      <td>0</td>\n",
       "      <td>1</td>\n",
       "      <td>0</td>\n",
       "      <td>0</td>\n",
       "    </tr>\n",
       "    <tr>\n",
       "      <th>2</th>\n",
       "      <td>3</td>\n",
       "      <td>4.8</td>\n",
       "      <td>0</td>\n",
       "      <td>80</td>\n",
       "      <td>90</td>\n",
       "      <td>85</td>\n",
       "      <td>0</td>\n",
       "      <td>0</td>\n",
       "      <td>0</td>\n",
       "      <td>0</td>\n",
       "      <td>...</td>\n",
       "      <td>0</td>\n",
       "      <td>0</td>\n",
       "      <td>0</td>\n",
       "      <td>0</td>\n",
       "      <td>0</td>\n",
       "      <td>0</td>\n",
       "      <td>0</td>\n",
       "      <td>0</td>\n",
       "      <td>1</td>\n",
       "      <td>0</td>\n",
       "    </tr>\n",
       "  </tbody>\n",
       "</table>\n",
       "<p>3 rows × 113 columns</p>\n",
       "</div>"
      ],
      "text/plain": [
       "   Job Title Category Encoded  Rating  employer_provided  min_salary  \\\n",
       "0                           3     3.8                  0          53   \n",
       "1                           3     3.4                  0          63   \n",
       "2                           3     4.8                  0          80   \n",
       "\n",
       "   max_salary  avg_salary  Size_1 to 50 employees  Size_10000+ employees  \\\n",
       "0          91          72                       0                      0   \n",
       "1         112          87                       0                      1   \n",
       "2          90          85                       0                      0   \n",
       "\n",
       "   Size_1001 to 5000 employees  Size_201 to 500 employees  ...  \\\n",
       "0                            0                          0  ...   \n",
       "1                            0                          0  ...   \n",
       "2                            0                          0  ...   \n",
       "\n",
       "   Revenue_$5 to $10 million (USD)  Revenue_$50 to $100 million (USD)  \\\n",
       "0                                0                                  1   \n",
       "1                                0                                  0   \n",
       "2                                0                                  0   \n",
       "\n",
       "   Revenue_$500 million to $1 billion (USD)  \\\n",
       "0                                         0   \n",
       "1                                         0   \n",
       "2                                         0   \n",
       "\n",
       "   Revenue_Less than $1 million (USD)  Revenue_Unknown / Non-Applicable  \\\n",
       "0                                   0                                 0   \n",
       "1                                   0                                 0   \n",
       "2                                   0                                 0   \n",
       "\n",
       "   Ownership Category_Government  Ownership Category_Nonprofit  \\\n",
       "0                              0                             0   \n",
       "1                              0                             0   \n",
       "2                              0                             0   \n",
       "\n",
       "   Ownership Category_Other  Ownership Category_Private  \\\n",
       "0                         0                           1   \n",
       "1                         1                           0   \n",
       "2                         0                           1   \n",
       "\n",
       "   Ownership Category_Public  \n",
       "0                          0  \n",
       "1                          0  \n",
       "2                          0  \n",
       "\n",
       "[3 rows x 113 columns]"
      ]
     },
     "execution_count": 660,
     "metadata": {},
     "output_type": "execute_result"
    }
   ],
   "source": [
    "df_start.head(3)"
   ]
  },
  {
   "cell_type": "markdown",
   "id": "56d78f80-b03e-4f5b-8159-9a80c281ff49",
   "metadata": {},
   "source": [
    "#### Data cleaning process completed"
   ]
  },
  {
   "cell_type": "markdown",
   "id": "cbe885cc-f023-44d6-9f6d-18debfd74a59",
   "metadata": {},
   "source": [
    "## 5 Making data ready"
   ]
  },
  {
   "cell_type": "markdown",
   "id": "e34dbdca-769b-48d8-b649-3cd6fadfff12",
   "metadata": {},
   "source": [
    "### 5.1 Split data for train and test"
   ]
  },
  {
   "cell_type": "code",
   "execution_count": 661,
   "id": "597a81be-3ee4-44a7-bd77-829489d40b7a",
   "metadata": {},
   "outputs": [],
   "source": [
    "# Define features (X) and target variable (y)\n",
    "features = df_start.drop(columns=['avg_salary'])\n",
    "target = df_start['avg_salary']\n",
    "\n",
    "# Split the data into training and testing sets\n",
    "X_train, X_test, y_train, y_test = train_test_split(features, target, test_size=0.2)"
   ]
  },
  {
   "cell_type": "markdown",
   "id": "73c4526b-9269-4e1a-9e07-3bcdd8398503",
   "metadata": {},
   "source": [
    "### 5.2 Implement Linear Regression Model"
   ]
  },
  {
   "cell_type": "code",
   "execution_count": 662,
   "id": "5f267d35-f414-4978-850c-694bb317ddd2",
   "metadata": {},
   "outputs": [
    {
     "name": "stdout",
     "output_type": "stream",
     "text": [
      "Linear Regression MSE: 0.05863399726580324\n",
      "Linear Regression R-squared: 0.9999565781169252\n"
     ]
    }
   ],
   "source": [
    "# Impute missing values with the mean (you can choose median or other strategies)\n",
    "imputer = SimpleImputer(strategy='mean')\n",
    "X_train_imputed = imputer.fit_transform(X_train)\n",
    "X_test_imputed = imputer.transform(X_test)\n",
    "\n",
    "linear_model = LinearRegression()\n",
    "\n",
    "# Now, train the Linear Regression model with the imputed data\n",
    "linear_model.fit(X_train_imputed, y_train)\n",
    "\n",
    "# Make predictions on the test set\n",
    "linear_predictions = linear_model.predict(X_test_imputed)\n",
    "\n",
    "# Calculate accuracy metrics\n",
    "linear_mse = mean_squared_error(y_test, linear_predictions)\n",
    "linear_r2 = r2_score(y_test, linear_predictions)\n",
    "\n",
    "print(f\"Linear Regression MSE: {linear_mse}\")\n",
    "print(f\"Linear Regression R-squared: {linear_r2}\")"
   ]
  },
  {
   "cell_type": "markdown",
   "id": "9fae6f68-0f51-4d28-9be1-472821f9b477",
   "metadata": {},
   "source": [
    "### 5.3 Implement Decision Tree Model"
   ]
  },
  {
   "cell_type": "code",
   "execution_count": 663,
   "id": "375dcae3-c40a-4686-b2ab-2018a2a5a0f6",
   "metadata": {},
   "outputs": [
    {
     "name": "stdout",
     "output_type": "stream",
     "text": [
      "Decision Trees MSE: 329.873082194623\n",
      "Decision Trees R-squared: 0.7557098087706602\n"
     ]
    }
   ],
   "source": [
    "# Create a Decision Trees model\n",
    "tree_model = DecisionTreeRegressor(random_state=42)\n",
    "\n",
    "# Train the model\n",
    "tree_model.fit(X_train, y_train)\n",
    "\n",
    "# Make predictions on the test set\n",
    "tree_predictions = tree_model.predict(X_test)\n",
    "\n",
    "# Calculate accuracy metrics\n",
    "tree_mse = mean_squared_error(y_test, tree_predictions)\n",
    "tree_r2 = r2_score(y_test, tree_predictions)\n",
    "\n",
    "print(f\"Decision Trees MSE: {tree_mse}\")\n",
    "print(f\"Decision Trees R-squared: {tree_r2}\")"
   ]
  },
  {
   "cell_type": "markdown",
   "id": "f7183f13-95c3-48b7-8b5c-4f13469972ce",
   "metadata": {},
   "source": [
    "### 5.4 Plotting some graphs"
   ]
  },
  {
   "cell_type": "markdown",
   "id": "0a8089b2-3b85-45c5-ad64-2233750f7f45",
   "metadata": {},
   "source": [
    "#### 5.4.1 Scatter plot to visualize predicted vs actual salaries"
   ]
  },
  {
   "cell_type": "code",
   "execution_count": 664,
   "id": "1205bc25-4fc8-4da2-8ae0-47cf785e2a07",
   "metadata": {},
   "outputs": [
    {
     "data": {
      "image/png": "[encoded data removed]",
      "text/plain": [
       "<Figure size 640x480 with 1 Axes>"
      ]
     },
     "metadata": {},
     "output_type": "display_data"
    }
   ],
   "source": [
    "plt.scatter(y_test, y_test, color='red', label='Actual Salary')\n",
    "plt.scatter(y_test, linear_predictions, color='skyblue', label='Predicted Salary')\n",
    "plt.xlabel(\"Actual Salary\")\n",
    "plt.ylabel(\"Predicted Salary\")\n",
    "plt.title(\"Linear Regression: Actual vs Predicted Salaries\")\n",
    "plt.legend()\n",
    "plt.show()"
   ]
  },
  {
   "cell_type": "markdown",
   "id": "9b594394-1471-4486-a6a7-896637396b6d",
   "metadata": {},
   "source": [
    "#### 5.4.2 Residual plot to check for homoscedasticity"
   ]
  },
  {
   "cell_type": "code",
   "execution_count": 665,
   "id": "330e8dbc-b361-46fc-b886-4c297d986cd0",
   "metadata": {},
   "outputs": [
    {
     "data": {
      "image/png": "[encoded data removed]",
      "text/plain": [
       "<Figure size 640x480 with 1 Axes>"
      ]
     },
     "metadata": {},
     "output_type": "display_data"
    }
   ],
   "source": [
    "residuals = y_test - linear_predictions\n",
    "plt.scatter(linear_predictions, residuals)\n",
    "plt.axhline(y=0, color='r', linestyle='--')\n",
    "plt.xlabel(\"Predicted Salary\")\n",
    "plt.ylabel(\"Residuals\")\n",
    "plt.title(\"Linear Regression: Residual Plot\")\n",
    "plt.show()"
   ]
  },
  {
   "cell_type": "markdown",
   "id": "8cda9863-459d-4a66-ac94-1f6fa929cffd",
   "metadata": {},
   "source": [
    "#### 5.4.3 Distribution of residuals"
   ]
  },
  {
   "cell_type": "code",
   "execution_count": 666,
   "id": "d3921e5e-b922-41a4-b989-4bd42c392f99",
   "metadata": {},
   "outputs": [
    {
     "data": {
      "image/png": "[encoded data removed]",
      "text/plain": [
       "<Figure size 640x480 with 1 Axes>"
      ]
     },
     "metadata": {},
     "output_type": "display_data"
    }
   ],
   "source": [
    "sns.histplot(residuals, kde=True)\n",
    "plt.xlabel(\"Residuals\")\n",
    "plt.ylabel(\"Frequency\")\n",
    "plt.title(\"Distribution of Residuals\")\n",
    "plt.show()"
   ]
  },
  {
   "cell_type": "markdown",
   "id": "482b4653-46dc-4f37-a972-fcfaf75172e4",
   "metadata": {},
   "source": [
    "#### 5.4 Finding Accuracy of Each Model"
   ]
  },
  {
   "cell_type": "code",
   "execution_count": 667,
   "id": "a0aaf350-56fc-422c-8c39-f0b55ea3c864",
   "metadata": {},
   "outputs": [],
   "source": [
    "def model_acc(model):\n",
    "    model.fit(X_train, y_train)\n",
    "    acc = model.score(X_test, y_test)\n",
    "    print(str(model) + ' --> ' + str(acc))"
   ]
  },
  {
   "cell_type": "code",
   "execution_count": 668,
   "id": "e1da5f4a-4cfb-436e-8bc0-236a1bdc26ee",
   "metadata": {},
   "outputs": [
    {
     "name": "stdout",
     "output_type": "stream",
     "text": [
      "LinearRegression() --> 0.9999565781169252\n",
      "DecisionTreeRegressor() --> 0.9947029523005354\n"
     ]
    }
   ],
   "source": [
    "def model_acc(model, X_train, X_test, y_train, y_test):\n",
    "    # Instantiate the imputer with a strategy (e.g., mean, median, or most_frequent)\n",
    "    imputer = SimpleImputer(strategy='mean')\n",
    "\n",
    "    # Fit and transform on training data\n",
    "    X_train_imputed = imputer.fit_transform(X_train)\n",
    "\n",
    "    # Transform test data using the imputer fitted on training data\n",
    "    X_test_imputed = imputer.transform(X_test)\n",
    "\n",
    "    # Fit the model\n",
    "    model.fit(X_train_imputed, y_train)\n",
    "\n",
    "    # Calculate accuracy\n",
    "    acc = model.score(X_test_imputed, y_test)\n",
    "\n",
    "    print(str(model) + ' --> ' + str(acc))\n",
    "\n",
    "# Assuming X_train, X_test, y_train, y_test are your training and testing data\n",
    "lr = LinearRegression()\n",
    "model_acc(lr, X_train, X_test, y_train, y_test)\n",
    "\n",
    "dt = DecisionTreeRegressor()\n",
    "model_acc(dt, X_train, X_test, y_train, y_test)"
   ]
  },
  {
   "cell_type": "markdown",
   "id": "c14467f9-f7d8-4be1-8fcc-f0d56af22abd",
   "metadata": {},
   "source": [
    "#### 5.6 Analyzing training and testing accuracy seperately"
   ]
  },
  {
   "cell_type": "code",
   "execution_count": 669,
   "id": "fb39d43a-95ce-48f9-a65b-21e06d34ec52",
   "metadata": {},
   "outputs": [],
   "source": [
    "def train_and_evaluate_models(X_train, X_test, y_train, y_test):\n",
    "    # Train models\n",
    "    linear_model.fit(X_train, y_train)\n",
    "    tree_model.fit(X_train, y_train)\n",
    "\n",
    "    # Evaluate models\n",
    "    linear_train_accuracy = linear_model.score(X_train, y_train)\n",
    "    linear_test_accuracy = linear_model.score(X_test, y_test)\n",
    "\n",
    "    tree_train_accuracy = tree_model.score(X_train, y_train)\n",
    "    tree_test_accuracy = tree_model.score(X_test, y_test)\n",
    "\n",
    "    return linear_train_accuracy, linear_test_accuracy, tree_train_accuracy, tree_test_accuracy"
   ]
  },
  {
   "cell_type": "code",
   "execution_count": 670,
   "id": "9cda6c6f-dab8-4cbe-a380-f9192a7406e7",
   "metadata": {},
   "outputs": [
    {
     "name": "stdout",
     "output_type": "stream",
     "text": [
      "Linear Regression Training Accuracy: 0.9999640267633679\n",
      "Linear Regression Test Accuracy: 0.9999565781169252\n",
      "\n",
      "Decision Trees Training Accuracy: 1.0\n",
      "Decision Trees Test Accuracy: 0.9956286499567526\n"
     ]
    }
   ],
   "source": [
    "# Impute missing values with the mean (you can choose median or other strategies)\n",
    "imputer = SimpleImputer(strategy='mean')\n",
    "X_train_imputed = imputer.fit_transform(X_train)\n",
    "X_test_imputed = imputer.transform(X_test)\n",
    "\n",
    "linear_train_acc, linear_test_acc, tree_train_acc, tree_test_acc = train_and_evaluate_models(X_train_imputed, X_test_imputed, y_train, y_test)\n",
    "\n",
    "print(\"Linear Regression Training Accuracy:\", linear_train_acc)\n",
    "print(\"Linear Regression Test Accuracy:\", linear_test_acc)\n",
    "print(\"\\nDecision Trees Training Accuracy:\", tree_train_acc)\n",
    "print(\"Decision Trees Test Accuracy:\", tree_test_acc)"
   ]
  },
  {
   "cell_type": "markdown",
   "id": "08d44ae2-3925-4d16-972e-50a1a30b74ca",
   "metadata": {},
   "source": [
    "#### 5.7 Define hyperparameter grids for each model"
   ]
  },
  {
   "cell_type": "code",
   "execution_count": 671,
   "id": "f8262be5-1a61-4da0-b2df-12a36b14f16f",
   "metadata": {},
   "outputs": [
    {
     "data": {
      "text/html": [
       "<style>#sk-container-id-4 {color: black;}#sk-container-id-4 pre{padding: 0;}#sk-container-id-4 div.sk-toggleable {background-color: white;}#sk-container-id-4 label.sk-toggleable__label {cursor: pointer;display: block;width: 100%;margin-bottom: 0;padding: 0.3em;box-sizing: border-box;text-align: center;}#sk-container-id-4 label.sk-toggleable__label-arrow:before {content: \"▸\";float: left;margin-right: 0.25em;color: #696969;}#sk-container-id-4 label.sk-toggleable__label-arrow:hover:before {color: black;}#sk-container-id-4 div.sk-estimator:hover label.sk-toggleable__label-arrow:before {color: black;}#sk-container-id-4 div.sk-toggleable__content {max-height: 0;max-width: 0;overflow: hidden;text-align: left;background-color: #f0f8ff;}#sk-container-id-4 div.sk-toggleable__content pre {margin: 0.2em;color: black;border-radius: 0.25em;background-color: #f0f8ff;}#sk-container-id-4 input.sk-toggleable__control:checked~div.sk-toggleable__content {max-height: 200px;max-width: 100%;overflow: auto;}#sk-container-id-4 input.sk-toggleable__control:checked~label.sk-toggleable__label-arrow:before {content: \"▾\";}#sk-container-id-4 div.sk-estimator input.sk-toggleable__control:checked~label.sk-toggleable__label {background-color: #d4ebff;}#sk-container-id-4 div.sk-label input.sk-toggleable__control:checked~label.sk-toggleable__label {background-color: #d4ebff;}#sk-container-id-4 input.sk-hidden--visually {border: 0;clip: rect(1px 1px 1px 1px);clip: rect(1px, 1px, 1px, 1px);height: 1px;margin: -1px;overflow: hidden;padding: 0;position: absolute;width: 1px;}#sk-container-id-4 div.sk-estimator {font-family: monospace;background-color: #f0f8ff;border: 1px dotted black;border-radius: 0.25em;box-sizing: border-box;margin-bottom: 0.5em;}#sk-container-id-4 div.sk-estimator:hover {background-color: #d4ebff;}#sk-container-id-4 div.sk-parallel-item::after {content: \"\";width: 100%;border-bottom: 1px solid gray;flex-grow: 1;}#sk-container-id-4 div.sk-label:hover label.sk-toggleable__label {background-color: #d4ebff;}#sk-container-id-4 div.sk-serial::before {content: \"\";position: absolute;border-left: 1px solid gray;box-sizing: border-box;top: 0;bottom: 0;left: 50%;z-index: 0;}#sk-container-id-4 div.sk-serial {display: flex;flex-direction: column;align-items: center;background-color: white;padding-right: 0.2em;padding-left: 0.2em;position: relative;}#sk-container-id-4 div.sk-item {position: relative;z-index: 1;}#sk-container-id-4 div.sk-parallel {display: flex;align-items: stretch;justify-content: center;background-color: white;position: relative;}#sk-container-id-4 div.sk-item::before, #sk-container-id-4 div.sk-parallel-item::before {content: \"\";position: absolute;border-left: 1px solid gray;box-sizing: border-box;top: 0;bottom: 0;left: 50%;z-index: -1;}#sk-container-id-4 div.sk-parallel-item {display: flex;flex-direction: column;z-index: 1;position: relative;background-color: white;}#sk-container-id-4 div.sk-parallel-item:first-child::after {align-self: flex-end;width: 50%;}#sk-container-id-4 div.sk-parallel-item:last-child::after {align-self: flex-start;width: 50%;}#sk-container-id-4 div.sk-parallel-item:only-child::after {width: 0;}#sk-container-id-4 div.sk-dashed-wrapped {border: 1px dashed gray;margin: 0 0.4em 0.5em 0.4em;box-sizing: border-box;padding-bottom: 0.4em;background-color: white;}#sk-container-id-4 div.sk-label label {font-family: monospace;font-weight: bold;display: inline-block;line-height: 1.2em;}#sk-container-id-4 div.sk-label-container {text-align: center;}#sk-container-id-4 div.sk-container {/* jupyter's `normalize.less` sets `[hidden] { display: none; }` but bootstrap.min.css set `[hidden] { display: none !important; }` so we also need the `!important` here to be able to override the default hidden behavior on the sphinx rendered scikit-learn.org. See: https://github.com/scikit-learn/scikit-learn/issues/21755 */display: inline-block !important;position: relative;}#sk-container-id-4 div.sk-text-repr-fallback {display: none;}</style><div id=\"sk-container-id-4\" class=\"sk-top-container\"><div class=\"sk-text-repr-fallback\"><pre>DecisionTreeRegressor(min_samples_leaf=4, random_state=42)</pre><b>In a Jupyter environment, please rerun this cell to show the HTML representation or trust the notebook. <br />On GitHub, the HTML representation is unable to render, please try loading this page with nbviewer.org.</b></div><div class=\"sk-container\" hidden><div class=\"sk-item\"><div class=\"sk-estimator sk-toggleable\"><input class=\"sk-toggleable__control sk-hidden--visually\" id=\"sk-estimator-id-6\" type=\"checkbox\" checked><label for=\"sk-estimator-id-6\" class=\"sk-toggleable__label sk-toggleable__label-arrow\">DecisionTreeRegressor</label><div class=\"sk-toggleable__content\"><pre>DecisionTreeRegressor(min_samples_leaf=4, random_state=42)</pre></div></div></div></div></div>"
      ],
      "text/plain": [
       "DecisionTreeRegressor(min_samples_leaf=4, random_state=42)"
      ]
     },
     "execution_count": 671,
     "metadata": {},
     "output_type": "execute_result"
    }
   ],
   "source": [
    "from sklearn.model_selection import GridSearchCV\n",
    "\n",
    "# Define hyperparameter grids for each model\n",
    "linear_param_grid = {'fit_intercept': [True, False]}\n",
    "\n",
    "tree_param_grid = {\n",
    "    'max_depth': [None, 10, 20, 30],\n",
    "    'min_samples_split': [2, 5, 10],\n",
    "    'min_samples_leaf': [1, 2, 4]\n",
    "}\n",
    "\n",
    "# Instantiate models\n",
    "linear_model = LinearRegression()\n",
    "tree_model = DecisionTreeRegressor(random_state=42)\n",
    "\n",
    "# Perform Grid Search for Linear Regression\n",
    "linear_grid_search = GridSearchCV(linear_model, linear_param_grid, cv=5, scoring='r2')\n",
    "linear_grid_search.fit(X_train_imputed, y_train)\n",
    "\n",
    "# Perform Grid Search for Decision Trees\n",
    "tree_grid_search = GridSearchCV(tree_model, tree_param_grid, cv=5, scoring='r2')\n",
    "tree_grid_search.fit(X_train, y_train)\n",
    "\n",
    "# Get best parameters for each model\n",
    "best_linear_params = linear_grid_search.best_params_\n",
    "best_tree_params = tree_grid_search.best_params_\n",
    "\n",
    "# Train models with the best parameters\n",
    "best_linear_model = LinearRegression(**best_linear_params)\n",
    "best_tree_model = DecisionTreeRegressor(random_state=42, **best_tree_params)\n",
    "\n",
    "best_linear_model.fit(X_train_imputed, y_train)\n",
    "best_tree_model.fit(X_train, y_train)"
   ]
  },
  {
   "cell_type": "markdown",
   "id": "0b2434d8-6460-4e10-a3d7-2b28a2fce022",
   "metadata": {},
   "source": [
    "#### 5.8 Evaluate the models with hyparameters"
   ]
  },
  {
   "cell_type": "code",
   "execution_count": 672,
   "id": "c636796f-0e92-4609-8d45-b059de1365b7",
   "metadata": {},
   "outputs": [
    {
     "name": "stdout",
     "output_type": "stream",
     "text": [
      "Linear Regression Training Accuracy: 0.9999640267633679\n",
      "Linear Regression Test Accuracy: 0.9999565781169252\n",
      "\n",
      "Decision Trees Training Accuracy: 0.7597457872156937\n",
      "Decision Trees Test Accuracy: 0.7565786145917557\n"
     ]
    }
   ],
   "source": [
    "linear_train_acc = best_linear_model.score(X_train_imputed, y_train)\n",
    "linear_test_acc = best_linear_model.score(X_test_imputed, y_test)\n",
    "\n",
    "tree_train_acc = best_tree_model.score(X_train, y_train)\n",
    "tree_test_acc = best_tree_model.score(X_test, y_test)\n",
    "\n",
    "print(\"Linear Regression Training Accuracy:\", linear_train_acc)\n",
    "print(\"Linear Regression Test Accuracy:\", linear_test_acc)\n",
    "print(\"\\nDecision Trees Training Accuracy:\", tree_train_acc)\n",
    "print(\"Decision Trees Test Accuracy:\", tree_test_acc)"
   ]
  },
  {
   "cell_type": "code",
   "execution_count": 673,
   "id": "a2447363-e84e-40bf-97f7-3f0f6c095ded",
   "metadata": {},
   "outputs": [
    {
     "name": "stdout",
     "output_type": "stream",
     "text": [
      "Best Model: Linear Regression\n",
      "Linear Regression MSE: 0.05863399726580324\n",
      "Linear Regression R-squared: 0.9999565781169252\n"
     ]
    }
   ],
   "source": [
    "# Compare test accuracies and choose the best model\n",
    "if linear_test_acc > tree_test_acc:\n",
    "    best_model = best_linear_model\n",
    "    best_model_name = 'Linear Regression'\n",
    "else:\n",
    "    best_model = best_tree_model\n",
    "    best_model_name = 'Decision Trees'\n",
    "\n",
    "# Make predictions using the best model\n",
    "best_model_predictions = best_model.predict(X_test_imputed)\n",
    "\n",
    "# Calculate accuracy metrics for the best model\n",
    "best_model_mse = mean_squared_error(y_test, best_model_predictions)\n",
    "best_model_r2 = r2_score(y_test, best_model_predictions)\n",
    "\n",
    "print(f\"Best Model: {best_model_name}\")\n",
    "print(f\"{best_model_name} MSE: {best_model_mse}\")\n",
    "print(f\"{best_model_name} R-squared: {best_model_r2}\")"
   ]
  },
  {
   "cell_type": "markdown",
   "id": "15fa9a66-7e9c-4aec-a81d-b9059d2a8ab4",
   "metadata": {},
   "source": [
    "#### 5.9 Choose the best model"
   ]
  },
  {
   "cell_type": "code",
   "execution_count": 674,
   "id": "12810075-d607-4d14-9e9f-6fde8af52e04",
   "metadata": {},
   "outputs": [
    {
     "name": "stdout",
     "output_type": "stream",
     "text": [
      "Linear Regression Training Accuracy: 0.9999640267633679\n",
      "Linear Regression Test Accuracy: 0.9999565781169252\n",
      "\n",
      "Decision Trees Training Accuracy: 0.7597457872156937\n",
      "Decision Trees Test Accuracy: 0.7565786145917557\n",
      "\n",
      "Best Model: Linear Regression\n",
      "Linear Regression Training Accuracy: 0.9999640267633679\n",
      "Linear Regression Test Accuracy: 0.9999565781169252\n",
      "Linear Regression MSE: 0.05863399726580324\n",
      "Linear Regression R-squared: 0.9999565781169252\n"
     ]
    }
   ],
   "source": [
    "# Train models with the best parameters\n",
    "best_linear_model = LinearRegression(**best_linear_params)\n",
    "best_tree_model = DecisionTreeRegressor(random_state=42, **best_tree_params)\n",
    "\n",
    "best_linear_model.fit(X_train_imputed, y_train)\n",
    "best_tree_model.fit(X_train, y_train)\n",
    "\n",
    "# Evaluate the models\n",
    "linear_train_acc = best_linear_model.score(X_train_imputed, y_train)\n",
    "linear_test_acc = best_linear_model.score(X_test_imputed, y_test)\n",
    "\n",
    "tree_train_acc = best_tree_model.score(X_train, y_train)\n",
    "tree_test_acc = best_tree_model.score(X_test, y_test)\n",
    "\n",
    "print(\"Linear Regression Training Accuracy:\", linear_train_acc)\n",
    "print(\"Linear Regression Test Accuracy:\", linear_test_acc)\n",
    "print(\"\\nDecision Trees Training Accuracy:\", tree_train_acc)\n",
    "print(\"Decision Trees Test Accuracy:\", tree_test_acc)\n",
    "\n",
    "# Compare test accuracies and choose the best model\n",
    "if linear_test_acc > tree_test_acc:\n",
    "    best_model = best_linear_model\n",
    "    best_model_name = 'Linear Regression'\n",
    "else:\n",
    "    best_model = best_tree_model\n",
    "    best_model_name = 'Decision Trees'\n",
    "\n",
    "# Make predictions using the best model\n",
    "best_model_predictions = best_model.predict(X_test_imputed)\n",
    "\n",
    "# Calculate accuracy metrics for the best model\n",
    "best_model_mse = mean_squared_error(y_test, best_model_predictions)\n",
    "best_model_r2 = r2_score(y_test, best_model_predictions)\n",
    "\n",
    "print(f\"\\nBest Model: {best_model_name}\")\n",
    "print(f\"{best_model_name} Training Accuracy: {linear_train_acc if best_model_name == 'Linear Regression' else tree_train_acc}\")\n",
    "print(f\"{best_model_name} Test Accuracy: {linear_test_acc if best_model_name == 'Linear Regression' else tree_test_acc}\")\n",
    "print(f\"{best_model_name} MSE: {best_model_mse}\")\n",
    "print(f\"{best_model_name} R-squared: {best_model_r2}\")"
   ]
  },
  {
   "cell_type": "markdown",
   "id": "92d20a2f-7b5c-49aa-9508-bbf3b82dd98b",
   "metadata": {},
   "source": [
    "#### Found the best model, let's do further predictions"
   ]
  },
  {
   "cell_type": "markdown",
   "id": "cbeebe59-71cd-441b-8d95-dc63aeb1b505",
   "metadata": {},
   "source": [
    "#### 6. Making a prediction"
   ]
  },
  {
   "cell_type": "code",
   "execution_count": 675,
   "id": "56424af5-4466-42fa-9d0a-082413d53710",
   "metadata": {},
   "outputs": [
    {
     "name": "stdout",
     "output_type": "stream",
     "text": [
      "Job Title Category Encoded       0\n",
      "Rating                           3\n",
      "employer_provided                0\n",
      "min_salary                       0\n",
      "max_salary                       0\n",
      "                                ..\n",
      "Ownership Category_Government    0\n",
      "Ownership Category_Nonprofit     0\n",
      "Ownership Category_Other         0\n",
      "Ownership Category_Private       0\n",
      "Ownership Category_Public        0\n",
      "Length: 112, dtype: int64\n"
     ]
    }
   ],
   "source": [
    "# Check for NaN values in X_test\n",
    "nan_values = X_test.isnull().sum()\n",
    "print(nan_values)"
   ]
  },
  {
   "cell_type": "code",
   "execution_count": 676,
   "id": "74c2e7ac-cf9f-4a81-83e9-4befeb4477de",
   "metadata": {},
   "outputs": [],
   "source": [
    "# Drop rows with NaN values\n",
    "X_test = X_test.dropna()\n",
    "y_test = y_test[X_test.index]  # Adjust y_test accordingly if rows were dropped"
   ]
  },
  {
   "cell_type": "code",
   "execution_count": 677,
   "id": "10bbff84-3224-4378-8d5b-8b0202b75a90",
   "metadata": {},
   "outputs": [
    {
     "name": "stderr",
     "output_type": "stream",
     "text": [
      "E:\\ENGINEERING\\FOE-UOR\\SEM 5\\ML\\Salary Prediction\\model\\env\\Lib\\site-packages\\sklearn\\base.py:458: UserWarning: X has feature names, but LinearRegression was fitted without feature names\n",
      "  warnings.warn(\n"
     ]
    },
    {
     "data": {
      "text/plain": [
       "0.9999539865820596"
      ]
     },
     "execution_count": 677,
     "metadata": {},
     "output_type": "execute_result"
    }
   ],
   "source": [
    "best_model.score(X_test,y_test)"
   ]
  },
  {
   "cell_type": "code",
   "execution_count": 678,
   "id": "049a766d-19ad-4189-b51d-c49214418185",
   "metadata": {},
   "outputs": [
    {
     "data": {
      "text/html": [
       "<div>\n",
       "<style scoped>\n",
       "    .dataframe tbody tr th:only-of-type {\n",
       "        vertical-align: middle;\n",
       "    }\n",
       "\n",
       "    .dataframe tbody tr th {\n",
       "        vertical-align: top;\n",
       "    }\n",
       "\n",
       "    .dataframe thead th {\n",
       "        text-align: right;\n",
       "    }\n",
       "</style>\n",
       "<table border=\"1\" class=\"dataframe\">\n",
       "  <thead>\n",
       "    <tr style=\"text-align: right;\">\n",
       "      <th></th>\n",
       "      <th>Job Title Category Encoded</th>\n",
       "      <th>Rating</th>\n",
       "      <th>employer_provided</th>\n",
       "      <th>min_salary</th>\n",
       "      <th>max_salary</th>\n",
       "      <th>avg_salary</th>\n",
       "      <th>Size_1 to 50 employees</th>\n",
       "      <th>Size_10000+ employees</th>\n",
       "      <th>Size_1001 to 5000 employees</th>\n",
       "      <th>Size_201 to 500 employees</th>\n",
       "      <th>...</th>\n",
       "      <th>Revenue_$5 to $10 million (USD)</th>\n",
       "      <th>Revenue_$50 to $100 million (USD)</th>\n",
       "      <th>Revenue_$500 million to $1 billion (USD)</th>\n",
       "      <th>Revenue_Less than $1 million (USD)</th>\n",
       "      <th>Revenue_Unknown / Non-Applicable</th>\n",
       "      <th>Ownership Category_Government</th>\n",
       "      <th>Ownership Category_Nonprofit</th>\n",
       "      <th>Ownership Category_Other</th>\n",
       "      <th>Ownership Category_Private</th>\n",
       "      <th>Ownership Category_Public</th>\n",
       "    </tr>\n",
       "  </thead>\n",
       "  <tbody>\n",
       "    <tr>\n",
       "      <th>0</th>\n",
       "      <td>3</td>\n",
       "      <td>3.8</td>\n",
       "      <td>0</td>\n",
       "      <td>53</td>\n",
       "      <td>91</td>\n",
       "      <td>72</td>\n",
       "      <td>0</td>\n",
       "      <td>0</td>\n",
       "      <td>0</td>\n",
       "      <td>0</td>\n",
       "      <td>...</td>\n",
       "      <td>0</td>\n",
       "      <td>1</td>\n",
       "      <td>0</td>\n",
       "      <td>0</td>\n",
       "      <td>0</td>\n",
       "      <td>0</td>\n",
       "      <td>0</td>\n",
       "      <td>0</td>\n",
       "      <td>1</td>\n",
       "      <td>0</td>\n",
       "    </tr>\n",
       "    <tr>\n",
       "      <th>1</th>\n",
       "      <td>3</td>\n",
       "      <td>3.4</td>\n",
       "      <td>0</td>\n",
       "      <td>63</td>\n",
       "      <td>112</td>\n",
       "      <td>87</td>\n",
       "      <td>0</td>\n",
       "      <td>1</td>\n",
       "      <td>0</td>\n",
       "      <td>0</td>\n",
       "      <td>...</td>\n",
       "      <td>0</td>\n",
       "      <td>0</td>\n",
       "      <td>0</td>\n",
       "      <td>0</td>\n",
       "      <td>0</td>\n",
       "      <td>0</td>\n",
       "      <td>0</td>\n",
       "      <td>1</td>\n",
       "      <td>0</td>\n",
       "      <td>0</td>\n",
       "    </tr>\n",
       "    <tr>\n",
       "      <th>2</th>\n",
       "      <td>3</td>\n",
       "      <td>4.8</td>\n",
       "      <td>0</td>\n",
       "      <td>80</td>\n",
       "      <td>90</td>\n",
       "      <td>85</td>\n",
       "      <td>0</td>\n",
       "      <td>0</td>\n",
       "      <td>0</td>\n",
       "      <td>0</td>\n",
       "      <td>...</td>\n",
       "      <td>0</td>\n",
       "      <td>0</td>\n",
       "      <td>0</td>\n",
       "      <td>0</td>\n",
       "      <td>0</td>\n",
       "      <td>0</td>\n",
       "      <td>0</td>\n",
       "      <td>0</td>\n",
       "      <td>1</td>\n",
       "      <td>0</td>\n",
       "    </tr>\n",
       "  </tbody>\n",
       "</table>\n",
       "<p>3 rows × 113 columns</p>\n",
       "</div>"
      ],
      "text/plain": [
       "   Job Title Category Encoded  Rating  employer_provided  min_salary  \\\n",
       "0                           3     3.8                  0          53   \n",
       "1                           3     3.4                  0          63   \n",
       "2                           3     4.8                  0          80   \n",
       "\n",
       "   max_salary  avg_salary  Size_1 to 50 employees  Size_10000+ employees  \\\n",
       "0          91          72                       0                      0   \n",
       "1         112          87                       0                      1   \n",
       "2          90          85                       0                      0   \n",
       "\n",
       "   Size_1001 to 5000 employees  Size_201 to 500 employees  ...  \\\n",
       "0                            0                          0  ...   \n",
       "1                            0                          0  ...   \n",
       "2                            0                          0  ...   \n",
       "\n",
       "   Revenue_$5 to $10 million (USD)  Revenue_$50 to $100 million (USD)  \\\n",
       "0                                0                                  1   \n",
       "1                                0                                  0   \n",
       "2                                0                                  0   \n",
       "\n",
       "   Revenue_$500 million to $1 billion (USD)  \\\n",
       "0                                         0   \n",
       "1                                         0   \n",
       "2                                         0   \n",
       "\n",
       "   Revenue_Less than $1 million (USD)  Revenue_Unknown / Non-Applicable  \\\n",
       "0                                   0                                 0   \n",
       "1                                   0                                 0   \n",
       "2                                   0                                 0   \n",
       "\n",
       "   Ownership Category_Government  Ownership Category_Nonprofit  \\\n",
       "0                              0                             0   \n",
       "1                              0                             0   \n",
       "2                              0                             0   \n",
       "\n",
       "   Ownership Category_Other  Ownership Category_Private  \\\n",
       "0                         0                           1   \n",
       "1                         1                           0   \n",
       "2                         0                           1   \n",
       "\n",
       "   Ownership Category_Public  \n",
       "0                          0  \n",
       "1                          0  \n",
       "2                          0  \n",
       "\n",
       "[3 rows x 113 columns]"
      ]
     },
     "execution_count": 678,
     "metadata": {},
     "output_type": "execute_result"
    }
   ],
   "source": [
    "df_start.head(3)"
   ]
  },
  {
   "cell_type": "code",
   "execution_count": 679,
   "id": "2126f927-0249-476f-9f78-11cbfc4913e3",
   "metadata": {},
   "outputs": [
    {
     "data": {
      "text/plain": [
       "array([97.80961555])"
      ]
     },
     "execution_count": 679,
     "metadata": {},
     "output_type": "execute_result"
    }
   ],
   "source": [
    "best_model.predict([[3, 3.8, 0, 80, 90, 85, 1, 1, 0, 0, 1, 0, 1, 0, 1, 1, 0, 1, 1, 0, 1, 1, 0, 1, 1, 0, 0, 1, 0, 1, 0, 1, 1, 0, 0, 0, 1, 1, 1, 0, 0, 1, 0, 0, 1, 0, 1, 1, 0, 1, 1, 1, 0, 0, 1, 1, 0, 0, 1, 0, 0, 1, 1, 0, 1, 1, 1, 1, 0, 1, 0, 0, 1, 0, 1, 0, 1, 1, 0, 0, 1, 0, 1, 0, 1, 1, 0, 0, 1, 1, 0, 1, 1, 0, 0, 1, 0, 1, 1, 1, 0, 1, 0, 0, 1, 1, 0, 0, 1, 0, 1, 0]\n",
    "])"
   ]
  }
 ],
 "metadata": {
  "kernelspec": {
   "display_name": "Python 3 (ipykernel)",
   "language": "python",
   "name": "python3"
  },
  "language_info": {
   "codemirror_mode": {
    "name": "ipython",
    "version": 3
   },
   "file_extension": ".py",
   "mimetype": "text/x-python",
   "name": "python",
   "nbconvert_exporter": "python",
   "pygments_lexer": "ipython3",
   "version": "3.12.1"
  }
 },
 "nbformat": 4,
 "nbformat_minor": 5
}
